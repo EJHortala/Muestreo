{
 "cells": [
  {
   "cell_type": "markdown",
   "metadata": {
    "slideshow": {
     "slide_type": "slide"
    }
   },
   "source": [
    "# Ejemplo tipos de muestreo:\n",
    "\n",
    "Vamos a implementar los distintos tipos de muestreo en una población que generaremos aleatoriamente a partir de una distribución normal $N(\\mu,\\sigma^{2})$.\n",
    "\n",
    "Usaremos la función `rnorm`:"
   ]
  },
  {
   "cell_type": "code",
   "execution_count": 1,
   "metadata": {
    "slideshow": {
     "slide_type": "subslide"
    }
   },
   "outputs": [
    {
     "data": {
      "text/html": [
       "<pre class=language-r><code>function (n, mean = 0, sd = 1) \n",
       "NULL</code></pre>"
      ],
      "text/latex": [
       "\\begin{minted}{r}\n",
       "function (n, mean = 0, sd = 1) \n",
       "NULL\n",
       "\\end{minted}"
      ],
      "text/markdown": [
       "```r\n",
       "function (n, mean = 0, sd = 1) \n",
       "NULL\n",
       "```"
      ],
      "text/plain": [
       "function (n, mean = 0, sd = 1) \n",
       "NULL"
      ]
     },
     "metadata": {},
     "output_type": "display_data"
    }
   ],
   "source": [
    "args(rnorm)"
   ]
  },
  {
   "cell_type": "markdown",
   "metadata": {
    "slideshow": {
     "slide_type": "subslide"
    }
   },
   "source": [
    "Los argumentos son:\n",
    "* `n`:  tamaño deseado\n",
    "*  `mean`: media (por defecto `0`)\n",
    "* `sd`: desviación estándar (por defecto `1`)\n",
    "\n",
    "Simularemos una población pequeña ($n=100.000$), con media $\\mu=10$ y desviación estándar $\\sigma=5$:"
   ]
  },
  {
   "cell_type": "code",
   "execution_count": 2,
   "metadata": {
    "slideshow": {
     "slide_type": "subslide"
    }
   },
   "outputs": [],
   "source": [
    "x1<-rnorm(100000, mean = 10, sd = 5)"
   ]
  },
  {
   "cell_type": "markdown",
   "metadata": {
    "slideshow": {
     "slide_type": "slide"
    }
   },
   "source": [
    "Para efectos del ejercicio, necesitamos dos variables categóricas: una que nos permita implementar muestreo estratificado y otra muestreo por conglomerados.\n",
    "\n",
    "Tenemos varias opciones:\n",
    "\n",
    "* Creamos un factor complejo mediante la función `gl` y unirlos todos\n",
    "* Creamos un vector de enteros aleatorios donde cada número represente un nivel de cada variable categórica usando la función `sample`\n",
    "\n",
    "Para la primera variable categórica vamos a emplear la primera opción:"
   ]
  },
  {
   "cell_type": "code",
   "execution_count": 3,
   "metadata": {
    "slideshow": {
     "slide_type": "subslide"
    }
   },
   "outputs": [],
   "source": [
    "f1<-gl(3, 11, length=30000)\n",
    "f2<-gl(2, 5, length=30000)\n",
    "f3<-gl(3, 7, length=40000)\n",
    "f<-c(f1,f2,f3)"
   ]
  },
  {
   "cell_type": "markdown",
   "metadata": {
    "slideshow": {
     "slide_type": "subslide"
    }
   },
   "source": [
    "Aquí hemos creado un vector de número enteros (1,2,3) de longitud `100000`, ahora necesitamos convertirlo en factor. Para esto usamos la funcion `factor`:"
   ]
  },
  {
   "cell_type": "code",
   "execution_count": 4,
   "metadata": {
    "slideshow": {
     "slide_type": "subslide"
    }
   },
   "outputs": [
    {
     "data": {
      "text/html": [
       "<pre class=language-r><code>function (x = character(), levels, labels = levels, exclude = NA, \n",
       "<span style=white-space:pre-wrap>    ordered = is.ordered(x), nmax = NA) </span>\n",
       "NULL</code></pre>"
      ],
      "text/latex": [
       "\\begin{minted}{r}\n",
       "function (x = character(), levels, labels = levels, exclude = NA, \n",
       "    ordered = is.ordered(x), nmax = NA) \n",
       "NULL\n",
       "\\end{minted}"
      ],
      "text/markdown": [
       "```r\n",
       "function (x = character(), levels, labels = levels, exclude = NA, \n",
       "    ordered = is.ordered(x), nmax = NA) \n",
       "NULL\n",
       "```"
      ],
      "text/plain": [
       "function (x = character(), levels, labels = levels, exclude = NA, \n",
       "    ordered = is.ordered(x), nmax = NA) \n",
       "NULL"
      ]
     },
     "metadata": {},
     "output_type": "display_data"
    }
   ],
   "source": [
    "args(factor)"
   ]
  },
  {
   "cell_type": "markdown",
   "metadata": {
    "slideshow": {
     "slide_type": "subslide"
    }
   },
   "source": [
    "Los argumentos a tener en cuenta son:\n",
    "\n",
    "* `x`: vector de datos a transformar\n",
    "* `levels`: los valores a cambiar\n",
    "* `labels`: las etiquetas a utilizar\n",
    "\n",
    "Con lo anterior, y deseando usar los valores `Blanco`, `Negro` y `Rojo`, este factor queda así:"
   ]
  },
  {
   "cell_type": "code",
   "execution_count": 5,
   "metadata": {
    "slideshow": {
     "slide_type": "subslide"
    }
   },
   "outputs": [],
   "source": [
    "x2<-factor(f, levels = c(1,2,3), labels = c(\"Blanco\",\"Negro\",\"Rojo\"))"
   ]
  },
  {
   "cell_type": "markdown",
   "metadata": {
    "slideshow": {
     "slide_type": "slide"
    }
   },
   "source": [
    "El siguiente factor lo simularemos con la función `sample`; deseamos crear cuatro niveles y usaremos los puntos cardinales como etiquetas:"
   ]
  },
  {
   "cell_type": "code",
   "execution_count": 6,
   "metadata": {
    "slideshow": {
     "slide_type": "subslide"
    }
   },
   "outputs": [],
   "source": [
    "fc<-sample(1:4, 100000, replace= T)\n",
    "x3<-factor(fc, levels = c(1,2,3,4), labels = c(\"Norte\",\"Sur\",\"Oriente\",\"Occidente\"))"
   ]
  },
  {
   "cell_type": "markdown",
   "metadata": {
    "slideshow": {
     "slide_type": "slide"
    }
   },
   "source": [
    "Finalmente, unimos las tres variables para obtener nuestro `data.frame`:"
   ]
  },
  {
   "cell_type": "code",
   "execution_count": 7,
   "metadata": {
    "slideshow": {
     "slide_type": "subslide"
    }
   },
   "outputs": [
    {
     "data": {
      "text/html": [
       "<table>\n",
       "<caption>A data.frame: 6 × 3</caption>\n",
       "<thead>\n",
       "\t<tr><th scope=col>x1</th><th scope=col>x2</th><th scope=col>x3</th></tr>\n",
       "\t<tr><th scope=col>&lt;dbl&gt;</th><th scope=col>&lt;fct&gt;</th><th scope=col>&lt;fct&gt;</th></tr>\n",
       "</thead>\n",
       "<tbody>\n",
       "\t<tr><td>19.126792</td><td>Blanco</td><td>Sur      </td></tr>\n",
       "\t<tr><td> 8.049879</td><td>Blanco</td><td>Norte    </td></tr>\n",
       "\t<tr><td>15.592783</td><td>Blanco</td><td>Occidente</td></tr>\n",
       "\t<tr><td> 8.681098</td><td>Blanco</td><td>Norte    </td></tr>\n",
       "\t<tr><td>13.076240</td><td>Blanco</td><td>Oriente  </td></tr>\n",
       "\t<tr><td>13.859927</td><td>Blanco</td><td>Occidente</td></tr>\n",
       "</tbody>\n",
       "</table>\n"
      ],
      "text/latex": [
       "A data.frame: 6 × 3\n",
       "\\begin{tabular}{r|lll}\n",
       " x1 & x2 & x3\\\\\n",
       " <dbl> & <fct> & <fct>\\\\\n",
       "\\hline\n",
       "\t 19.126792 & Blanco & Sur      \\\\\n",
       "\t  8.049879 & Blanco & Norte    \\\\\n",
       "\t 15.592783 & Blanco & Occidente\\\\\n",
       "\t  8.681098 & Blanco & Norte    \\\\\n",
       "\t 13.076240 & Blanco & Oriente  \\\\\n",
       "\t 13.859927 & Blanco & Occidente\\\\\n",
       "\\end{tabular}\n"
      ],
      "text/markdown": [
       "\n",
       "A data.frame: 6 × 3\n",
       "\n",
       "| x1 &lt;dbl&gt; | x2 &lt;fct&gt; | x3 &lt;fct&gt; |\n",
       "|---|---|---|\n",
       "| 19.126792 | Blanco | Sur       |\n",
       "|  8.049879 | Blanco | Norte     |\n",
       "| 15.592783 | Blanco | Occidente |\n",
       "|  8.681098 | Blanco | Norte     |\n",
       "| 13.076240 | Blanco | Oriente   |\n",
       "| 13.859927 | Blanco | Occidente |\n",
       "\n"
      ],
      "text/plain": [
       "  x1        x2     x3       \n",
       "1 19.126792 Blanco Sur      \n",
       "2  8.049879 Blanco Norte    \n",
       "3 15.592783 Blanco Occidente\n",
       "4  8.681098 Blanco Norte    \n",
       "5 13.076240 Blanco Oriente  \n",
       "6 13.859927 Blanco Occidente"
      ]
     },
     "metadata": {},
     "output_type": "display_data"
    }
   ],
   "source": [
    "df<-data.frame(x1,x2,x3)\n",
    "head(df)"
   ]
  },
  {
   "cell_type": "code",
   "execution_count": 8,
   "metadata": {
    "scrolled": true,
    "slideshow": {
     "slide_type": "subslide"
    }
   },
   "outputs": [
    {
     "data": {
      "text/plain": [
       "       x1               x2                x3       \n",
       " Min.   :-12.768   Blanco:38337   Norte    :25017  \n",
       " 1st Qu.:  6.631   Negro :38334   Sur      :25079  \n",
       " Median : 10.015   Rojo  :23329   Oriente  :25088  \n",
       " Mean   :  9.995                  Occidente:24816  \n",
       " 3rd Qu.: 13.349                                   \n",
       " Max.   : 32.083                                   "
      ]
     },
     "metadata": {},
     "output_type": "display_data"
    }
   ],
   "source": [
    "summary(df)"
   ]
  },
  {
   "cell_type": "markdown",
   "metadata": {
    "slideshow": {
     "slide_type": "slide"
    }
   },
   "source": [
    "## MAS\n",
    "\n",
    "Para todos los casos vamos a definir $100$ como el tamaño muestral. Empezando con el _MAS_. Usamos la función `sample` para generar número aleatorios que representan el número de las filas del `data.frame`:"
   ]
  },
  {
   "cell_type": "code",
   "execution_count": 9,
   "metadata": {
    "slideshow": {
     "slide_type": "subslide"
    }
   },
   "outputs": [
    {
     "data": {
      "text/html": [
       "<ol class=list-inline>\n",
       "\t<li>27143</li>\n",
       "\t<li>50139</li>\n",
       "\t<li>40501</li>\n",
       "\t<li>8502</li>\n",
       "\t<li>39589</li>\n",
       "\t<li>1195</li>\n",
       "</ol>\n"
      ],
      "text/latex": [
       "\\begin{enumerate*}\n",
       "\\item 27143\n",
       "\\item 50139\n",
       "\\item 40501\n",
       "\\item 8502\n",
       "\\item 39589\n",
       "\\item 1195\n",
       "\\end{enumerate*}\n"
      ],
      "text/markdown": [
       "1. 27143\n",
       "2. 50139\n",
       "3. 40501\n",
       "4. 8502\n",
       "5. 39589\n",
       "6. 1195\n",
       "\n",
       "\n"
      ],
      "text/plain": [
       "[1] 27143 50139 40501  8502 39589  1195"
      ]
     },
     "metadata": {},
     "output_type": "display_data"
    }
   ],
   "source": [
    "n100<-100 # Para definir el tamaño de la muestra\n",
    "muestra100<- sample(1:nrow(df),size=n100,replace=FALSE) # replace = F para no repetir números\n",
    "head(muestra100)"
   ]
  },
  {
   "cell_type": "markdown",
   "metadata": {
    "slideshow": {
     "slide_type": "slide"
    }
   },
   "source": [
    "Un `data.frame` tiene dos elementos: `filas` y `columnas` que podemos definir asi:\n",
    "```\n",
    "df[filas,columnas]\n",
    "```\n",
    "con el objeto `muestra100` hemos determinado las filas que seleccionaremos, por lo tanto usamos esos valores para el elemento filas del `data.frame`:"
   ]
  },
  {
   "cell_type": "code",
   "execution_count": 10,
   "metadata": {
    "scrolled": true,
    "slideshow": {
     "slide_type": "subslide"
    }
   },
   "outputs": [
    {
     "data": {
      "text/plain": [
       "       x1               x2             x3    \n",
       " Min.   :-0.6068   Blanco:37   Norte    :29  \n",
       " 1st Qu.: 7.3600   Negro :36   Sur      :25  \n",
       " Median : 9.7053   Rojo  :27   Oriente  :23  \n",
       " Mean   :10.2645               Occidente:23  \n",
       " 3rd Qu.:12.7142                             \n",
       " Max.   :21.8721                             "
      ]
     },
     "metadata": {},
     "output_type": "display_data"
    }
   ],
   "source": [
    "m100<-df[muestra100,]\n",
    "summary(m100)"
   ]
  },
  {
   "cell_type": "markdown",
   "metadata": {
    "slideshow": {
     "slide_type": "slide"
    }
   },
   "source": [
    "## ME\n",
    "\n",
    "Para el muestreo estratificado necesitamos dos librerías adicionales: `magrittr` y `dplyr`, para usar unas funciones específicas"
   ]
  },
  {
   "cell_type": "code",
   "execution_count": 11,
   "metadata": {
    "slideshow": {
     "slide_type": "subslide"
    }
   },
   "outputs": [
    {
     "name": "stderr",
     "output_type": "stream",
     "text": [
      "\n",
      "Attaching package: 'dplyr'\n",
      "\n",
      "The following objects are masked from 'package:stats':\n",
      "\n",
      "    filter, lag\n",
      "\n",
      "The following objects are masked from 'package:base':\n",
      "\n",
      "    intersect, setdiff, setequal, union\n",
      "\n"
     ]
    }
   ],
   "source": [
    "library(magrittr) # Permite leer la funcion %>% que se usa para asignar funciones a objetos\n",
    "library(dplyr) # Contiene la funcion select"
   ]
  },
  {
   "cell_type": "markdown",
   "metadata": {
    "slideshow": {
     "slide_type": "slide"
    }
   },
   "source": [
    "Requerimos determinar la proporción correspondiente a cada estrato, vamos a usar las siguientes líneas de comando:"
   ]
  },
  {
   "cell_type": "code",
   "execution_count": 12,
   "metadata": {
    "slideshow": {
     "slide_type": "subslide"
    }
   },
   "outputs": [
    {
     "data": {
      "text/html": [
       "<table>\n",
       "<caption>A tibble: 3 × 4</caption>\n",
       "<thead>\n",
       "\t<tr><th scope=col>x2</th><th scope=col>n</th><th scope=col>s</th><th scope=col>p</th></tr>\n",
       "\t<tr><th scope=col>&lt;fct&gt;</th><th scope=col>&lt;int&gt;</th><th scope=col>&lt;dbl&gt;</th><th scope=col>&lt;dbl&gt;</th></tr>\n",
       "</thead>\n",
       "<tbody>\n",
       "\t<tr><td>Blanco</td><td>38337</td><td>5.012791</td><td>0.38337</td></tr>\n",
       "\t<tr><td>Negro </td><td>38334</td><td>4.952705</td><td>0.38334</td></tr>\n",
       "\t<tr><td>Rojo  </td><td>23329</td><td>5.025651</td><td>0.23329</td></tr>\n",
       "</tbody>\n",
       "</table>\n"
      ],
      "text/latex": [
       "A tibble: 3 × 4\n",
       "\\begin{tabular}{r|llll}\n",
       " x2 & n & s & p\\\\\n",
       " <fct> & <int> & <dbl> & <dbl>\\\\\n",
       "\\hline\n",
       "\t Blanco & 38337 & 5.012791 & 0.38337\\\\\n",
       "\t Negro  & 38334 & 4.952705 & 0.38334\\\\\n",
       "\t Rojo   & 23329 & 5.025651 & 0.23329\\\\\n",
       "\\end{tabular}\n"
      ],
      "text/markdown": [
       "\n",
       "A tibble: 3 × 4\n",
       "\n",
       "| x2 &lt;fct&gt; | n &lt;int&gt; | s &lt;dbl&gt; | p &lt;dbl&gt; |\n",
       "|---|---|---|---|\n",
       "| Blanco | 38337 | 5.012791 | 0.38337 |\n",
       "| Negro  | 38334 | 4.952705 | 0.38334 |\n",
       "| Rojo   | 23329 | 5.025651 | 0.23329 |\n",
       "\n"
      ],
      "text/plain": [
       "  x2     n     s        p      \n",
       "1 Blanco 38337 5.012791 0.38337\n",
       "2 Negro  38334 4.952705 0.38334\n",
       "3 Rojo   23329 5.025651 0.23329"
      ]
     },
     "metadata": {},
     "output_type": "display_data"
    }
   ],
   "source": [
    "Estratos<- df %>%\n",
    "  select(x2,x1) %>%\n",
    "  group_by(x2) %>%\n",
    "  summarise(n=n(),\n",
    "            s=sd(x1)) %>%\n",
    "  mutate(p=n/sum(n))\n",
    "\n",
    "Estratos"
   ]
  },
  {
   "cell_type": "markdown",
   "metadata": {
    "slideshow": {
     "slide_type": "subslide"
    }
   },
   "source": [
    "Teniendo conocimiento de las proporciones, procedemos a determinar las muestras (recordemos que aún no hemos abordado el tema del tamaño muestral):"
   ]
  },
  {
   "cell_type": "code",
   "execution_count": 13,
   "metadata": {
    "slideshow": {
     "slide_type": "subslide"
    }
   },
   "outputs": [],
   "source": [
    "library('SamplingUtil') # Contiene la funcion nstrata que nos permite calcular los estratos"
   ]
  },
  {
   "cell_type": "code",
   "execution_count": 14,
   "metadata": {
    "slideshow": {
     "slide_type": "subslide"
    }
   },
   "outputs": [
    {
     "data": {
      "text/html": [
       "<table>\n",
       "<caption>A data.frame: 3 × 2</caption>\n",
       "<thead>\n",
       "\t<tr><th scope=col>x2</th><th scope=col>p</th></tr>\n",
       "\t<tr><th scope=col>&lt;fct&gt;</th><th scope=col>&lt;dbl&gt;</th></tr>\n",
       "</thead>\n",
       "<tbody>\n",
       "\t<tr><td>Blanco</td><td>39</td></tr>\n",
       "\t<tr><td>Negro </td><td>39</td></tr>\n",
       "\t<tr><td>Rojo  </td><td>24</td></tr>\n",
       "</tbody>\n",
       "</table>\n"
      ],
      "text/latex": [
       "A data.frame: 3 × 2\n",
       "\\begin{tabular}{r|ll}\n",
       " x2 & p\\\\\n",
       " <fct> & <dbl>\\\\\n",
       "\\hline\n",
       "\t Blanco & 39\\\\\n",
       "\t Negro  & 39\\\\\n",
       "\t Rojo   & 24\\\\\n",
       "\\end{tabular}\n"
      ],
      "text/markdown": [
       "\n",
       "A data.frame: 3 × 2\n",
       "\n",
       "| x2 &lt;fct&gt; | p &lt;dbl&gt; |\n",
       "|---|---|\n",
       "| Blanco | 39 |\n",
       "| Negro  | 39 |\n",
       "| Rojo   | 24 |\n",
       "\n"
      ],
      "text/plain": [
       "  x2     p \n",
       "1 Blanco 39\n",
       "2 Negro  39\n",
       "3 Rojo   24"
      ]
     },
     "metadata": {},
     "output_type": "display_data"
    }
   ],
   "source": [
    "nsizeProp100<-nstrata(n=100,wh=Estratos[,4],method=\"proportional\")\n",
    "data.frame(x2=Estratos$x2,nsizeProp100)"
   ]
  },
  {
   "cell_type": "markdown",
   "metadata": {
    "slideshow": {
     "slide_type": "slide"
    }
   },
   "source": [
    "Y procedemos a hacer el MAS dentro de cada estrato:"
   ]
  },
  {
   "cell_type": "code",
   "execution_count": 15,
   "metadata": {
    "slideshow": {
     "slide_type": "subslide"
    }
   },
   "outputs": [
    {
     "data": {
      "text/html": [
       "<table>\n",
       "<caption>A data.frame: 6 × 3</caption>\n",
       "<thead>\n",
       "\t<tr><th></th><th scope=col>x1</th><th scope=col>x2</th><th scope=col>x3</th></tr>\n",
       "\t<tr><th></th><th scope=col>&lt;dbl&gt;</th><th scope=col>&lt;fct&gt;</th><th scope=col>&lt;fct&gt;</th></tr>\n",
       "</thead>\n",
       "<tbody>\n",
       "\t<tr><th scope=row>35156</th><td> 7.777611</td><td>Negro </td><td>Oriente  </td></tr>\n",
       "\t<tr><th scope=row>5730</th><td>10.194740</td><td>Negro </td><td>Sur      </td></tr>\n",
       "\t<tr><th scope=row>1999</th><td> 5.682419</td><td>Negro </td><td>Occidente</td></tr>\n",
       "\t<tr><th scope=row>28389</th><td>11.654443</td><td>Blanco</td><td>Occidente</td></tr>\n",
       "\t<tr><th scope=row>32735</th><td>13.493746</td><td>Blanco</td><td>Norte    </td></tr>\n",
       "\t<tr><th scope=row>19673</th><td> 8.954893</td><td>Blanco</td><td>Sur      </td></tr>\n",
       "</tbody>\n",
       "</table>\n"
      ],
      "text/latex": [
       "A data.frame: 6 × 3\n",
       "\\begin{tabular}{r|lll}\n",
       "  & x1 & x2 & x3\\\\\n",
       "  & <dbl> & <fct> & <fct>\\\\\n",
       "\\hline\n",
       "\t35156 &  7.777611 & Negro  & Oriente  \\\\\n",
       "\t5730 & 10.194740 & Negro  & Sur      \\\\\n",
       "\t1999 &  5.682419 & Negro  & Occidente\\\\\n",
       "\t28389 & 11.654443 & Blanco & Occidente\\\\\n",
       "\t32735 & 13.493746 & Blanco & Norte    \\\\\n",
       "\t19673 &  8.954893 & Blanco & Sur      \\\\\n",
       "\\end{tabular}\n"
      ],
      "text/markdown": [
       "\n",
       "A data.frame: 6 × 3\n",
       "\n",
       "| <!--/--> | x1 &lt;dbl&gt; | x2 &lt;fct&gt; | x3 &lt;fct&gt; |\n",
       "|---|---|---|---|\n",
       "| 35156 |  7.777611 | Negro  | Oriente   |\n",
       "| 5730 | 10.194740 | Negro  | Sur       |\n",
       "| 1999 |  5.682419 | Negro  | Occidente |\n",
       "| 28389 | 11.654443 | Blanco | Occidente |\n",
       "| 32735 | 13.493746 | Blanco | Norte     |\n",
       "| 19673 |  8.954893 | Blanco | Sur       |\n",
       "\n"
      ],
      "text/plain": [
       "      x1        x2     x3       \n",
       "35156  7.777611 Negro  Oriente  \n",
       "5730  10.194740 Negro  Sur      \n",
       "1999   5.682419 Negro  Occidente\n",
       "28389 11.654443 Blanco Occidente\n",
       "32735 13.493746 Blanco Norte    \n",
       "19673  8.954893 Blanco Sur      "
      ]
     },
     "metadata": {},
     "output_type": "display_data"
    }
   ],
   "source": [
    "neBlanco<-39 # Cantidad de sujetos en Blanco\n",
    "meBlanco100<- sample(1:nrow(df[df$x2=='Blanco',]),size=neBlanco,replace=FALSE)\n",
    "\n",
    "neNegro<-39 # Cantidad de sujetos en Negro\n",
    "meNegro100<- sample(1:nrow(df[df$x2=='Negro',]),size=neNegro,replace=FALSE)\n",
    "\n",
    "neRojo<-24 # Cantidad de sujetos en Rojo\n",
    "meRojo100<- sample(1:nrow(df[df$x2=='Rojo',]),size=neRojo,replace=FALSE)\n",
    "\n",
    "mestrato100<-c(meBlanco100,meNegro100,meRojo100) # Unimos los tres vectores\n",
    "\n",
    "me100<-df[mestrato100,] # Extraemos la muestra\n",
    "\n",
    "head(me100)"
   ]
  },
  {
   "cell_type": "markdown",
   "metadata": {
    "slideshow": {
     "slide_type": "slide"
    }
   },
   "source": [
    "## MS\n",
    "\n",
    "El muestreo sistemático conlleva a escoger observaciones que ocupan un lugar específico en la lista de datos. Para ellos nos apoyamos en la función `sys.sample` de la librería `SampligUtil`:"
   ]
  },
  {
   "cell_type": "code",
   "execution_count": 16,
   "metadata": {
    "slideshow": {
     "slide_type": "subslide"
    }
   },
   "outputs": [
    {
     "data": {
      "text/html": [
       "<ol class=list-inline>\n",
       "\t<li>452</li>\n",
       "\t<li>1452</li>\n",
       "\t<li>2452</li>\n",
       "\t<li>3452</li>\n",
       "\t<li>4452</li>\n",
       "\t<li>5452</li>\n",
       "</ol>\n"
      ],
      "text/latex": [
       "\\begin{enumerate*}\n",
       "\\item 452\n",
       "\\item 1452\n",
       "\\item 2452\n",
       "\\item 3452\n",
       "\\item 4452\n",
       "\\item 5452\n",
       "\\end{enumerate*}\n"
      ],
      "text/markdown": [
       "1. 452\n",
       "2. 1452\n",
       "3. 2452\n",
       "4. 3452\n",
       "5. 4452\n",
       "6. 5452\n",
       "\n",
       "\n"
      ],
      "text/plain": [
       "[1]  452 1452 2452 3452 4452 5452"
      ]
     },
     "metadata": {},
     "output_type": "display_data"
    }
   ],
   "source": [
    "library(SamplingUtil)\n",
    "msis100<- sys.sample(N=nrow(df),n=100)\n",
    "head(msis100)"
   ]
  },
  {
   "cell_type": "code",
   "execution_count": 17,
   "metadata": {
    "slideshow": {
     "slide_type": "subslide"
    }
   },
   "outputs": [
    {
     "data": {
      "text/html": [
       "<table>\n",
       "<caption>A data.frame: 6 × 3</caption>\n",
       "<thead>\n",
       "\t<tr><th></th><th scope=col>x1</th><th scope=col>x2</th><th scope=col>x3</th></tr>\n",
       "\t<tr><th></th><th scope=col>&lt;dbl&gt;</th><th scope=col>&lt;fct&gt;</th><th scope=col>&lt;fct&gt;</th></tr>\n",
       "</thead>\n",
       "<tbody>\n",
       "\t<tr><th scope=row>452</th><td> 6.150656</td><td>Rojo  </td><td>Sur    </td></tr>\n",
       "\t<tr><th scope=row>1452</th><td> 6.877552</td><td>Rojo  </td><td>Sur    </td></tr>\n",
       "\t<tr><th scope=row>2452</th><td> 7.650281</td><td>Blanco</td><td>Oriente</td></tr>\n",
       "\t<tr><th scope=row>3452</th><td> 9.382525</td><td>Negro </td><td>Oriente</td></tr>\n",
       "\t<tr><th scope=row>4452</th><td>11.701085</td><td>Rojo  </td><td>Oriente</td></tr>\n",
       "\t<tr><th scope=row>5452</th><td>13.901178</td><td>Blanco</td><td>Norte  </td></tr>\n",
       "</tbody>\n",
       "</table>\n"
      ],
      "text/latex": [
       "A data.frame: 6 × 3\n",
       "\\begin{tabular}{r|lll}\n",
       "  & x1 & x2 & x3\\\\\n",
       "  & <dbl> & <fct> & <fct>\\\\\n",
       "\\hline\n",
       "\t452 &  6.150656 & Rojo   & Sur    \\\\\n",
       "\t1452 &  6.877552 & Rojo   & Sur    \\\\\n",
       "\t2452 &  7.650281 & Blanco & Oriente\\\\\n",
       "\t3452 &  9.382525 & Negro  & Oriente\\\\\n",
       "\t4452 & 11.701085 & Rojo   & Oriente\\\\\n",
       "\t5452 & 13.901178 & Blanco & Norte  \\\\\n",
       "\\end{tabular}\n"
      ],
      "text/markdown": [
       "\n",
       "A data.frame: 6 × 3\n",
       "\n",
       "| <!--/--> | x1 &lt;dbl&gt; | x2 &lt;fct&gt; | x3 &lt;fct&gt; |\n",
       "|---|---|---|---|\n",
       "| 452 |  6.150656 | Rojo   | Sur     |\n",
       "| 1452 |  6.877552 | Rojo   | Sur     |\n",
       "| 2452 |  7.650281 | Blanco | Oriente |\n",
       "| 3452 |  9.382525 | Negro  | Oriente |\n",
       "| 4452 | 11.701085 | Rojo   | Oriente |\n",
       "| 5452 | 13.901178 | Blanco | Norte   |\n",
       "\n"
      ],
      "text/plain": [
       "     x1        x2     x3     \n",
       "452   6.150656 Rojo   Sur    \n",
       "1452  6.877552 Rojo   Sur    \n",
       "2452  7.650281 Blanco Oriente\n",
       "3452  9.382525 Negro  Oriente\n",
       "4452 11.701085 Rojo   Oriente\n",
       "5452 13.901178 Blanco Norte  "
      ]
     },
     "metadata": {},
     "output_type": "display_data"
    }
   ],
   "source": [
    "m100sis<- df[msis100, ]\n",
    "head(m100sis)"
   ]
  },
  {
   "cell_type": "markdown",
   "metadata": {
    "slideshow": {
     "slide_type": "slide"
    }
   },
   "source": [
    "## MC\n",
    "\n",
    "El muestreo por conglomerados se realiza de manera similar al muestreo estratificado. La diferencia radica en las características de la variable categórica que debe hacer referencia a un lugar geográfico. En el ejemplo es `x3` que describe los cuatro puntos cardinales. El procedimiento es:"
   ]
  },
  {
   "cell_type": "code",
   "execution_count": 18,
   "metadata": {
    "slideshow": {
     "slide_type": "subslide"
    }
   },
   "outputs": [
    {
     "data": {
      "text/html": [
       "<table>\n",
       "<caption>A tibble: 4 × 4</caption>\n",
       "<thead>\n",
       "\t<tr><th scope=col>x3</th><th scope=col>n</th><th scope=col>s</th><th scope=col>p</th></tr>\n",
       "\t<tr><th scope=col>&lt;fct&gt;</th><th scope=col>&lt;int&gt;</th><th scope=col>&lt;dbl&gt;</th><th scope=col>&lt;dbl&gt;</th></tr>\n",
       "</thead>\n",
       "<tbody>\n",
       "\t<tr><td>Norte    </td><td>25017</td><td>5.005887</td><td>0.25017</td></tr>\n",
       "\t<tr><td>Sur      </td><td>25079</td><td>5.010662</td><td>0.25079</td></tr>\n",
       "\t<tr><td>Oriente  </td><td>25088</td><td>4.977485</td><td>0.25088</td></tr>\n",
       "\t<tr><td>Occidente</td><td>24816</td><td>4.976974</td><td>0.24816</td></tr>\n",
       "</tbody>\n",
       "</table>\n"
      ],
      "text/latex": [
       "A tibble: 4 × 4\n",
       "\\begin{tabular}{r|llll}\n",
       " x3 & n & s & p\\\\\n",
       " <fct> & <int> & <dbl> & <dbl>\\\\\n",
       "\\hline\n",
       "\t Norte     & 25017 & 5.005887 & 0.25017\\\\\n",
       "\t Sur       & 25079 & 5.010662 & 0.25079\\\\\n",
       "\t Oriente   & 25088 & 4.977485 & 0.25088\\\\\n",
       "\t Occidente & 24816 & 4.976974 & 0.24816\\\\\n",
       "\\end{tabular}\n"
      ],
      "text/markdown": [
       "\n",
       "A tibble: 4 × 4\n",
       "\n",
       "| x3 &lt;fct&gt; | n &lt;int&gt; | s &lt;dbl&gt; | p &lt;dbl&gt; |\n",
       "|---|---|---|---|\n",
       "| Norte     | 25017 | 5.005887 | 0.25017 |\n",
       "| Sur       | 25079 | 5.010662 | 0.25079 |\n",
       "| Oriente   | 25088 | 4.977485 | 0.25088 |\n",
       "| Occidente | 24816 | 4.976974 | 0.24816 |\n",
       "\n"
      ],
      "text/plain": [
       "  x3        n     s        p      \n",
       "1 Norte     25017 5.005887 0.25017\n",
       "2 Sur       25079 5.010662 0.25079\n",
       "3 Oriente   25088 4.977485 0.25088\n",
       "4 Occidente 24816 4.976974 0.24816"
      ]
     },
     "metadata": {},
     "output_type": "display_data"
    }
   ],
   "source": [
    "Conglomerados<- df %>%\n",
    "  select(x3,x1) %>%\n",
    "  group_by(x3) %>%\n",
    "  summarise(n=n(),\n",
    "            s=sd(x1)) %>%\n",
    "  mutate(p=n/sum(n))\n",
    "\n",
    "Conglomerados"
   ]
  },
  {
   "cell_type": "code",
   "execution_count": 19,
   "metadata": {
    "slideshow": {
     "slide_type": "subslide"
    }
   },
   "outputs": [
    {
     "data": {
      "text/html": [
       "<table>\n",
       "<caption>A data.frame: 4 × 2</caption>\n",
       "<thead>\n",
       "\t<tr><th scope=col>x3</th><th scope=col>p</th></tr>\n",
       "\t<tr><th scope=col>&lt;fct&gt;</th><th scope=col>&lt;dbl&gt;</th></tr>\n",
       "</thead>\n",
       "<tbody>\n",
       "\t<tr><td>Norte    </td><td>26</td></tr>\n",
       "\t<tr><td>Sur      </td><td>26</td></tr>\n",
       "\t<tr><td>Oriente  </td><td>26</td></tr>\n",
       "\t<tr><td>Occidente</td><td>25</td></tr>\n",
       "</tbody>\n",
       "</table>\n"
      ],
      "text/latex": [
       "A data.frame: 4 × 2\n",
       "\\begin{tabular}{r|ll}\n",
       " x3 & p\\\\\n",
       " <fct> & <dbl>\\\\\n",
       "\\hline\n",
       "\t Norte     & 26\\\\\n",
       "\t Sur       & 26\\\\\n",
       "\t Oriente   & 26\\\\\n",
       "\t Occidente & 25\\\\\n",
       "\\end{tabular}\n"
      ],
      "text/markdown": [
       "\n",
       "A data.frame: 4 × 2\n",
       "\n",
       "| x3 &lt;fct&gt; | p &lt;dbl&gt; |\n",
       "|---|---|\n",
       "| Norte     | 26 |\n",
       "| Sur       | 26 |\n",
       "| Oriente   | 26 |\n",
       "| Occidente | 25 |\n",
       "\n"
      ],
      "text/plain": [
       "  x3        p \n",
       "1 Norte     26\n",
       "2 Sur       26\n",
       "3 Oriente   26\n",
       "4 Occidente 25"
      ]
     },
     "metadata": {},
     "output_type": "display_data"
    }
   ],
   "source": [
    "nsCProp100<-nstrata(n=100,wh=Conglomerados[,4],method=\"proportional\")\n",
    "data.frame(x3=Conglomerados$x3,nsCProp100)"
   ]
  },
  {
   "cell_type": "code",
   "execution_count": 20,
   "metadata": {
    "slideshow": {
     "slide_type": "subslide"
    }
   },
   "outputs": [
    {
     "data": {
      "text/html": [
       "<table>\n",
       "<caption>A data.frame: 6 × 3</caption>\n",
       "<thead>\n",
       "\t<tr><th></th><th scope=col>x1</th><th scope=col>x2</th><th scope=col>x3</th></tr>\n",
       "\t<tr><th></th><th scope=col>&lt;dbl&gt;</th><th scope=col>&lt;fct&gt;</th><th scope=col>&lt;fct&gt;</th></tr>\n",
       "</thead>\n",
       "<tbody>\n",
       "\t<tr><th scope=row>3761</th><td> 8.988457</td><td>Rojo  </td><td>Occidente</td></tr>\n",
       "\t<tr><th scope=row>17802</th><td> 9.913411</td><td>Negro </td><td>Norte    </td></tr>\n",
       "\t<tr><th scope=row>15866</th><td> 8.687524</td><td>Rojo  </td><td>Norte    </td></tr>\n",
       "\t<tr><th scope=row>18550</th><td>11.732728</td><td>Blanco</td><td>Norte    </td></tr>\n",
       "\t<tr><th scope=row>8781</th><td>13.626400</td><td>Blanco</td><td>Sur      </td></tr>\n",
       "\t<tr><th scope=row>10818</th><td> 5.644709</td><td>Rojo  </td><td>Occidente</td></tr>\n",
       "</tbody>\n",
       "</table>\n"
      ],
      "text/latex": [
       "A data.frame: 6 × 3\n",
       "\\begin{tabular}{r|lll}\n",
       "  & x1 & x2 & x3\\\\\n",
       "  & <dbl> & <fct> & <fct>\\\\\n",
       "\\hline\n",
       "\t3761 &  8.988457 & Rojo   & Occidente\\\\\n",
       "\t17802 &  9.913411 & Negro  & Norte    \\\\\n",
       "\t15866 &  8.687524 & Rojo   & Norte    \\\\\n",
       "\t18550 & 11.732728 & Blanco & Norte    \\\\\n",
       "\t8781 & 13.626400 & Blanco & Sur      \\\\\n",
       "\t10818 &  5.644709 & Rojo   & Occidente\\\\\n",
       "\\end{tabular}\n"
      ],
      "text/markdown": [
       "\n",
       "A data.frame: 6 × 3\n",
       "\n",
       "| <!--/--> | x1 &lt;dbl&gt; | x2 &lt;fct&gt; | x3 &lt;fct&gt; |\n",
       "|---|---|---|---|\n",
       "| 3761 |  8.988457 | Rojo   | Occidente |\n",
       "| 17802 |  9.913411 | Negro  | Norte     |\n",
       "| 15866 |  8.687524 | Rojo   | Norte     |\n",
       "| 18550 | 11.732728 | Blanco | Norte     |\n",
       "| 8781 | 13.626400 | Blanco | Sur       |\n",
       "| 10818 |  5.644709 | Rojo   | Occidente |\n",
       "\n"
      ],
      "text/plain": [
       "      x1        x2     x3       \n",
       "3761   8.988457 Rojo   Occidente\n",
       "17802  9.913411 Negro  Norte    \n",
       "15866  8.687524 Rojo   Norte    \n",
       "18550 11.732728 Blanco Norte    \n",
       "8781  13.626400 Blanco Sur      \n",
       "10818  5.644709 Rojo   Occidente"
      ]
     },
     "metadata": {},
     "output_type": "display_data"
    }
   ],
   "source": [
    "nCoNorte<-26\n",
    "mCoNorte100<- sample(1:nrow(df[df$x3=='Norte',]),size=nCoNorte,replace=FALSE)\n",
    "\n",
    "nCoSur<-26\n",
    "mCoSur100<- sample(1:nrow(df[df$x3=='Sur',]),size=nCoSur,replace=FALSE)\n",
    "\n",
    "nCoOriente<-26\n",
    "mCoOriente100<- sample(1:nrow(df[df$x3=='Oriente',]),size=nCoOriente,replace=FALSE)\n",
    "\n",
    "nCoOccidente<-25\n",
    "mCoOccidente100<- sample(1:nrow(df[df$x3=='Occidente',]),size=nCoOccidente,replace=FALSE)\n",
    "\n",
    "mCong100<-c(mCoNorte100,mCoSur100,mCoOriente100,mCoOccidente100)\n",
    "mc100<-df[mCong100,]\n",
    "\n",
    "head(mc100)"
   ]
  },
  {
   "cell_type": "markdown",
   "metadata": {
    "slideshow": {
     "slide_type": "slide"
    }
   },
   "source": [
    "Hagamos una comparación gráfica:"
   ]
  },
  {
   "cell_type": "code",
   "execution_count": 21,
   "metadata": {
    "slideshow": {
     "slide_type": "subslide"
    }
   },
   "outputs": [
    {
     "data": {
      "image/png": "[encoded data removed]",
      "text/plain": [
       "Plot with title \"Conglomerados\""
      ]
     },
     "metadata": {},
     "output_type": "display_data"
    }
   ],
   "source": [
    "par(mfrow=c(2,2))\n",
    "with(m100, plot(x1, pch=20, main = 'Aleatorio'))\n",
    "with(me100, plot(x1, pch=20, main = 'Estratificado'))\n",
    "with(m100sis, plot(x1, pch=20, main = 'Sistematico'))\n",
    "with(mc100, plot(x1, pch=20, main = 'Conglomerados'))"
   ]
  },
  {
   "cell_type": "code",
   "execution_count": 22,
   "metadata": {
    "slideshow": {
     "slide_type": "subslide"
    }
   },
   "outputs": [
    {
     "data": {
      "image/png": "[encoded data removed]",
      "text/plain": [
       "Plot with title \"Conglomerados\""
      ]
     },
     "metadata": {},
     "output_type": "display_data"
    }
   ],
   "source": [
    "par(mfrow=c(2,2))\n",
    "with(m100, plot(x2,x1, pch=20, main = 'Aleatorio'))\n",
    "with(me100, plot(x2,x1, pch=20, main = 'Estradificado'))\n",
    "with(m100sis, plot(x2,x1, pch=20, main = 'Sistematico'))\n",
    "with(mc100, plot(x2,x1, pch=20, main = 'Conglomerados'))"
   ]
  },
  {
   "cell_type": "code",
   "execution_count": 23,
   "metadata": {
    "slideshow": {
     "slide_type": "subslide"
    }
   },
   "outputs": [
    {
     "data": {
      "image/png": "[encoded data removed]",
      "text/plain": [
       "Plot with title \"Conglomerados\""
      ]
     },
     "metadata": {},
     "output_type": "display_data"
    }
   ],
   "source": [
    "par(mfrow=c(2,2))\n",
    "with(m100, plot(x3,x1, pch=20, main = 'Aleatorio'))\n",
    "with(me100, plot(x3,x1, pch=20, main = 'Estradificado'))\n",
    "with(m100sis, plot(x3,x1, pch=20, main = 'Sistematico'))\n",
    "with(mc100, plot(x3,x1, pch=20, main = 'Conglomerados'))"
   ]
  },
  {
   "cell_type": "code",
   "execution_count": 24,
   "metadata": {
    "slideshow": {
     "slide_type": "subslide"
    }
   },
   "outputs": [
    {
     "data": {
      "image/png": "[encoded data removed]",
      "text/plain": [
       "Plot with title \"Conglomerados\""
      ]
     },
     "metadata": {},
     "output_type": "display_data"
    }
   ],
   "source": [
    "par(mfrow=c(2,2))\n",
    "with(m100, hist(x1, main = 'Aleatorio'))\n",
    "with(me100, hist(x1, main = 'Estratificado'))\n",
    "with(m100sis, hist(x1, main = 'Sistematico'))\n",
    "with(mc100, hist(x1, main = 'Conglomerados'))"
   ]
  },
  {
   "cell_type": "markdown",
   "metadata": {
    "slideshow": {
     "slide_type": "slide"
    }
   },
   "source": [
    "## EJERCICIO\n",
    "\n",
    "Pruebe con varios tamaños de muestra, compare los resultados y discútalos con sus compañeros; use las funciones `mystas` Y `summary` para los resultados numéricos\n",
    "\n",
    "### Función `mystats`:\n",
    "\n",
    "```\n",
    "mystats <- function(x, na.omit=FALSE){\n",
    "  if (na.omit)\n",
    "    x <- x[!is.na(x)]\n",
    "  m <- mean(x)\n",
    "  n <- length(x)\n",
    "  s <- sd(x)\n",
    "  skew <- sum((x-m)^3/s^3)/n\n",
    "  kurt <- sum((x-m)^4/s^4)/n - 3\n",
    "  return(c('tamaño'=n, 'media'=m, \"desviación estándar\"=s,\n",
    "           'simetría'=skew, 'kurtosis'=kurt))\n",
    "}\n",
    "```\n",
    "\n",
    "Simule otra población, esta vez de tamaño $500.000$; construya dos variables de estratos, uno de dos niveles y otros de tres niveles y ua variable de conglomerados para las regiones de Colombia: _Caribe_, _Pacífico_, _Andina_, _Amazonía_ y _Orinoquía_; procure que sea parecida a la realidad nacional. Use los siguientes valores para la media y la desviación estándar de la población a simular:\n",
    "\n",
    "```\n",
    " [1] 1112420.0  991186.8  479001.0  577993.2  772165.4 1045078.5 1232893.1  661851.7 \n",
    " [9]  830702.7  819056.6  837199.7  803178.7  828598.7  411176.3  926617.9  705401.8\n",
    "[17]  843941.3  759118.5 1015989.7  845487.1  965037.1  760726.4 1205077.8  557838.5\n",
    "[25]  733327.0\n",
    "```\n",
    "\n"
   ]
  }
 ],
 "metadata": {
  "kernelspec": {
   "display_name": "R",
   "language": "R",
   "name": "ir"
  },
  "language_info": {
   "codemirror_mode": "r",
   "file_extension": ".r",
   "mimetype": "text/x-r-source",
   "name": "R",
   "pygments_lexer": "r",
   "version": "3.6.0"
  }
 },
 "nbformat": 4,
 "nbformat_minor": 2
}
