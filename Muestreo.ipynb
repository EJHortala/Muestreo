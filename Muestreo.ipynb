{
 "cells": [
  {
   "cell_type": "markdown",
   "metadata": {
    "slideshow": {
     "slide_type": "slide"
    }
   },
   "source": [
    "# TEORÍA GENERAL DEL MUESTREO"
   ]
  },
  {
   "cell_type": "markdown",
   "metadata": {
    "slideshow": {
     "slide_type": "subslide"
    }
   },
   "source": [
    "## Introducción\n",
    "\n",
    "El objeto del muestreo es hacer inferencias de características cuantitativas sobre una población a partir de una muestra. Esto es posible si la muestra es como indican algunos autores _representativa_ de la población.\n",
    "\n",
    "**¿Cuándo es representativa una muestra?**\n",
    "\n",
    "Antes de responder, veamos la diferencia entre muestra y población:\n",
    "\n",
    "* **Población:** Son cada unas de las variables que se definen sobre un universo. Mediante esta definición puede hacerse notar que puede existir más de una población asociada a un mismo universo.\n",
    "* **Muestra:** Es una parte representativa de la población.\n",
    "\n",
    "Bien, aceptemos que eso no dice mucho. Veamos la cosa con un ejemplo:\n",
    "\n",
    "> Se tiene la información sobre todos los estudiantes de la UIS pero se desea trabajar con una muestra de ellos dado el volumen de datos (supongamos que es grande). Los datos son los siguientes:"
   ]
  },
  {
   "cell_type": "code",
   "execution_count": 3,
   "metadata": {
    "slideshow": {
     "slide_type": "subslide"
    }
   },
   "outputs": [
    {
     "data": {
      "text/html": [
       "<ol class=list-inline>\n",
       "\t<li>'mystats'</li>\n",
       "\t<li>'poblacion'</li>\n",
       "</ol>\n"
      ],
      "text/latex": [
       "\\begin{enumerate*}\n",
       "\\item 'mystats'\n",
       "\\item 'poblacion'\n",
       "\\end{enumerate*}\n"
      ],
      "text/markdown": [
       "1. 'mystats'\n",
       "2. 'poblacion'\n",
       "\n",
       "\n"
      ],
      "text/plain": [
       "[1] \"mystats\"   \"poblacion\""
      ]
     },
     "metadata": {},
     "output_type": "display_data"
    }
   ],
   "source": [
    "load('Datos/estudiantes.RData')\n",
    "ls() # Con esta función podemos revisar los objetos que tenemos en el área de trabajo"
   ]
  },
  {
   "cell_type": "code",
   "execution_count": 4,
   "metadata": {
    "slideshow": {
     "slide_type": "subslide"
    }
   },
   "outputs": [
    {
     "data": {
      "text/html": [
       "<ol class=list-inline>\n",
       "\t<li>24040</li>\n",
       "\t<li>21</li>\n",
       "</ol>\n"
      ],
      "text/latex": [
       "\\begin{enumerate*}\n",
       "\\item 24040\n",
       "\\item 21\n",
       "\\end{enumerate*}\n"
      ],
      "text/markdown": [
       "1. 24040\n",
       "2. 21\n",
       "\n",
       "\n"
      ],
      "text/plain": [
       "[1] 24040    21"
      ]
     },
     "metadata": {},
     "output_type": "display_data"
    }
   ],
   "source": [
    "dim(poblacion) # Cuáles son las dimensiones de data.frame"
   ]
  },
  {
   "cell_type": "code",
   "execution_count": 5,
   "metadata": {
    "slideshow": {
     "slide_type": "subslide"
    }
   },
   "outputs": [
    {
     "data": {
      "text/html": [
       "<ol class=list-inline>\n",
       "\t<li>'NUM_DOCUMENTO'</li>\n",
       "\t<li>'SEXO_BIOLOGICO'</li>\n",
       "\t<li>'ID_ESTADO_CIVIL'</li>\n",
       "\t<li>'AÑO.NACIMIENTO'</li>\n",
       "\t<li>'EDAD'</li>\n",
       "\t<li>'PAIS.NACIMIENTO'</li>\n",
       "\t<li>'REGIÓN'</li>\n",
       "\t<li>'COD_PROG_SNIES'</li>\n",
       "\t<li>'PROGRAMA'</li>\n",
       "\t<li>'COD_ESTUDIANTE'</li>\n",
       "\t<li>'SEDE'</li>\n",
       "\t<li>'ESTADO'</li>\n",
       "\t<li>'VIGENTE'</li>\n",
       "\t<li>'COD_FAC'</li>\n",
       "\t<li>'FACULTAD'</li>\n",
       "\t<li>'COD_ESC'</li>\n",
       "\t<li>'ESCUELA_DEP'</li>\n",
       "\t<li>'METODOLOGÍA'</li>\n",
       "\t<li>'PROGRAMA.TIPO'</li>\n",
       "\t<li>'NIVEL.ACADEMICO'</li>\n",
       "\t<li>'NIVEL.DE.FORMACION'</li>\n",
       "</ol>\n"
      ],
      "text/latex": [
       "\\begin{enumerate*}\n",
       "\\item 'NUM\\_DOCUMENTO'\n",
       "\\item 'SEXO\\_BIOLOGICO'\n",
       "\\item 'ID\\_ESTADO\\_CIVIL'\n",
       "\\item 'AÑO.NACIMIENTO'\n",
       "\\item 'EDAD'\n",
       "\\item 'PAIS.NACIMIENTO'\n",
       "\\item 'REGIÓN'\n",
       "\\item 'COD\\_PROG\\_SNIES'\n",
       "\\item 'PROGRAMA'\n",
       "\\item 'COD\\_ESTUDIANTE'\n",
       "\\item 'SEDE'\n",
       "\\item 'ESTADO'\n",
       "\\item 'VIGENTE'\n",
       "\\item 'COD\\_FAC'\n",
       "\\item 'FACULTAD'\n",
       "\\item 'COD\\_ESC'\n",
       "\\item 'ESCUELA\\_DEP'\n",
       "\\item 'METODOLOGÍA'\n",
       "\\item 'PROGRAMA.TIPO'\n",
       "\\item 'NIVEL.ACADEMICO'\n",
       "\\item 'NIVEL.DE.FORMACION'\n",
       "\\end{enumerate*}\n"
      ],
      "text/markdown": [
       "1. 'NUM_DOCUMENTO'\n",
       "2. 'SEXO_BIOLOGICO'\n",
       "3. 'ID_ESTADO_CIVIL'\n",
       "4. 'AÑO.NACIMIENTO'\n",
       "5. 'EDAD'\n",
       "6. 'PAIS.NACIMIENTO'\n",
       "7. 'REGIÓN'\n",
       "8. 'COD_PROG_SNIES'\n",
       "9. 'PROGRAMA'\n",
       "10. 'COD_ESTUDIANTE'\n",
       "11. 'SEDE'\n",
       "12. 'ESTADO'\n",
       "13. 'VIGENTE'\n",
       "14. 'COD_FAC'\n",
       "15. 'FACULTAD'\n",
       "16. 'COD_ESC'\n",
       "17. 'ESCUELA_DEP'\n",
       "18. 'METODOLOGÍA'\n",
       "19. 'PROGRAMA.TIPO'\n",
       "20. 'NIVEL.ACADEMICO'\n",
       "21. 'NIVEL.DE.FORMACION'\n",
       "\n",
       "\n"
      ],
      "text/plain": [
       " [1] \"NUM_DOCUMENTO\"      \"SEXO_BIOLOGICO\"     \"ID_ESTADO_CIVIL\"   \n",
       " [4] \"AÑO.NACIMIENTO\"     \"EDAD\"               \"PAIS.NACIMIENTO\"   \n",
       " [7] \"REGIÓN\"             \"COD_PROG_SNIES\"     \"PROGRAMA\"          \n",
       "[10] \"COD_ESTUDIANTE\"     \"SEDE\"               \"ESTADO\"            \n",
       "[13] \"VIGENTE\"            \"COD_FAC\"            \"FACULTAD\"          \n",
       "[16] \"COD_ESC\"            \"ESCUELA_DEP\"        \"METODOLOGÍA\"       \n",
       "[19] \"PROGRAMA.TIPO\"      \"NIVEL.ACADEMICO\"    \"NIVEL.DE.FORMACION\""
      ]
     },
     "metadata": {},
     "output_type": "display_data"
    }
   ],
   "source": [
    "names(poblacion) # Los nombres de las variables del conjunto de datos"
   ]
  },
  {
   "cell_type": "code",
   "execution_count": 6,
   "metadata": {
    "slideshow": {
     "slide_type": "slide"
    }
   },
   "outputs": [],
   "source": [
    "# Seleccionemos sólo unas variables para efectos del ejercicio\n",
    "edad<-data.frame(codigo=poblacion$COD_ESTUDIANTE, edad=poblacion$EDAD, facultad=poblacion$FACULTAD)"
   ]
  },
  {
   "cell_type": "code",
   "execution_count": 7,
   "metadata": {
    "slideshow": {
     "slide_type": "subslide"
    }
   },
   "outputs": [
    {
     "data": {
      "text/html": [
       "<table>\n",
       "<thead><tr><th scope=col>codigo</th><th scope=col>edad</th><th scope=col>facultad</th></tr></thead>\n",
       "<tbody>\n",
       "\t<tr><td>2158108 </td><td>30      </td><td>CIENCIAS</td></tr>\n",
       "\t<tr><td>2188261 </td><td>26      </td><td>CIENCIAS</td></tr>\n",
       "\t<tr><td>2168284 </td><td>30      </td><td>CIENCIAS</td></tr>\n",
       "\t<tr><td>2168283 </td><td>28      </td><td>CIENCIAS</td></tr>\n",
       "\t<tr><td>2178275 </td><td>28      </td><td>CIENCIAS</td></tr>\n",
       "\t<tr><td>2188259 </td><td>28      </td><td>CIENCIAS</td></tr>\n",
       "</tbody>\n",
       "</table>\n"
      ],
      "text/latex": [
       "\\begin{tabular}{r|lll}\n",
       " codigo & edad & facultad\\\\\n",
       "\\hline\n",
       "\t 2158108  & 30       & CIENCIAS\\\\\n",
       "\t 2188261  & 26       & CIENCIAS\\\\\n",
       "\t 2168284  & 30       & CIENCIAS\\\\\n",
       "\t 2168283  & 28       & CIENCIAS\\\\\n",
       "\t 2178275  & 28       & CIENCIAS\\\\\n",
       "\t 2188259  & 28       & CIENCIAS\\\\\n",
       "\\end{tabular}\n"
      ],
      "text/markdown": [
       "\n",
       "| codigo | edad | facultad |\n",
       "|---|---|---|\n",
       "| 2158108  | 30       | CIENCIAS |\n",
       "| 2188261  | 26       | CIENCIAS |\n",
       "| 2168284  | 30       | CIENCIAS |\n",
       "| 2168283  | 28       | CIENCIAS |\n",
       "| 2178275  | 28       | CIENCIAS |\n",
       "| 2188259  | 28       | CIENCIAS |\n",
       "\n"
      ],
      "text/plain": [
       "  codigo  edad facultad\n",
       "1 2158108 30   CIENCIAS\n",
       "2 2188261 26   CIENCIAS\n",
       "3 2168284 30   CIENCIAS\n",
       "4 2168283 28   CIENCIAS\n",
       "5 2178275 28   CIENCIAS\n",
       "6 2188259 28   CIENCIAS"
      ]
     },
     "metadata": {},
     "output_type": "display_data"
    },
    {
     "data": {
      "text/html": [
       "<table>\n",
       "<thead><tr><th></th><th scope=col>codigo</th><th scope=col>edad</th><th scope=col>facultad</th></tr></thead>\n",
       "<tbody>\n",
       "\t<tr><th scope=row>24035</th><td>2172579   </td><td>18        </td><td>C. HUMANAS</td></tr>\n",
       "\t<tr><th scope=row>24036</th><td>2121969   </td><td>38        </td><td>C. HUMANAS</td></tr>\n",
       "\t<tr><th scope=row>24037</th><td>2131294   </td><td>27        </td><td>SALUD     </td></tr>\n",
       "\t<tr><th scope=row>24038</th><td>2172624   </td><td>19        </td><td>C. HUMANAS</td></tr>\n",
       "\t<tr><th scope=row>24039</th><td>2143435   </td><td>28        </td><td>C. HUMANAS</td></tr>\n",
       "\t<tr><th scope=row>24040</th><td>2170842   </td><td>19        </td><td>C. HUMANAS</td></tr>\n",
       "</tbody>\n",
       "</table>\n"
      ],
      "text/latex": [
       "\\begin{tabular}{r|lll}\n",
       "  & codigo & edad & facultad\\\\\n",
       "\\hline\n",
       "\t24035 & 2172579    & 18         & C. HUMANAS\\\\\n",
       "\t24036 & 2121969    & 38         & C. HUMANAS\\\\\n",
       "\t24037 & 2131294    & 27         & SALUD     \\\\\n",
       "\t24038 & 2172624    & 19         & C. HUMANAS\\\\\n",
       "\t24039 & 2143435    & 28         & C. HUMANAS\\\\\n",
       "\t24040 & 2170842    & 19         & C. HUMANAS\\\\\n",
       "\\end{tabular}\n"
      ],
      "text/markdown": [
       "\n",
       "| <!--/--> | codigo | edad | facultad |\n",
       "|---|---|---|---|\n",
       "| 24035 | 2172579    | 18         | C. HUMANAS |\n",
       "| 24036 | 2121969    | 38         | C. HUMANAS |\n",
       "| 24037 | 2131294    | 27         | SALUD      |\n",
       "| 24038 | 2172624    | 19         | C. HUMANAS |\n",
       "| 24039 | 2143435    | 28         | C. HUMANAS |\n",
       "| 24040 | 2170842    | 19         | C. HUMANAS |\n",
       "\n"
      ],
      "text/plain": [
       "      codigo  edad facultad  \n",
       "24035 2172579 18   C. HUMANAS\n",
       "24036 2121969 38   C. HUMANAS\n",
       "24037 2131294 27   SALUD     \n",
       "24038 2172624 19   C. HUMANAS\n",
       "24039 2143435 28   C. HUMANAS\n",
       "24040 2170842 19   C. HUMANAS"
      ]
     },
     "metadata": {},
     "output_type": "display_data"
    }
   ],
   "source": [
    "head(edad); tail(edad) # Primeras y últimas observaciones de la tabla"
   ]
  },
  {
   "cell_type": "code",
   "execution_count": 8,
   "metadata": {
    "scrolled": false,
    "slideshow": {
     "slide_type": "slide"
    }
   },
   "outputs": [
    {
     "data": {
      "image/png": "[encoded data removed]",
      "text/plain": [
       "Plot with title \"Histogram of edad\""
      ]
     },
     "metadata": {},
     "output_type": "display_data"
    }
   ],
   "source": [
    "# Algunas gráficas para apreciar la dispersión de los datos:\n",
    "par(mfrow=c(3,1))\n",
    "with(edad, plot(facultad,edad))\n",
    "with(edad, plot(edad, pch = 20))\n",
    "with(edad, hist(edad, nclass = 50))\n",
    "par(mfrow=c(1,1))"
   ]
  },
  {
   "cell_type": "markdown",
   "metadata": {
    "slideshow": {
     "slide_type": "slide"
    }
   },
   "source": [
    "Gráficamente, tenemos representada allí las edades de la población estudiantil de la UIS; toda ella, sin distinción de carrera, nivel de formación o cualquier otro tipo de agrupamiento. Seleccionemos una muestra. Empecemos con una de tamaño pequeño:"
   ]
  },
  {
   "cell_type": "code",
   "execution_count": 9,
   "metadata": {
    "slideshow": {
     "slide_type": "subslide"
    }
   },
   "outputs": [
    {
     "data": {
      "text/html": [
       "<ol class=list-inline>\n",
       "\t<li>17638</li>\n",
       "\t<li>15500</li>\n",
       "\t<li>11077</li>\n",
       "\t<li>5691</li>\n",
       "\t<li>6596</li>\n",
       "\t<li>23971</li>\n",
       "</ol>\n"
      ],
      "text/latex": [
       "\\begin{enumerate*}\n",
       "\\item 17638\n",
       "\\item 15500\n",
       "\\item 11077\n",
       "\\item 5691\n",
       "\\item 6596\n",
       "\\item 23971\n",
       "\\end{enumerate*}\n"
      ],
      "text/markdown": [
       "1. 17638\n",
       "2. 15500\n",
       "3. 11077\n",
       "4. 5691\n",
       "5. 6596\n",
       "6. 23971\n",
       "\n",
       "\n"
      ],
      "text/plain": [
       "[1] 17638 15500 11077  5691  6596 23971"
      ]
     },
     "metadata": {},
     "output_type": "display_data"
    }
   ],
   "source": [
    "n<-30\n",
    "muestra1<- sample(1:nrow(edad),size=n,replace=FALSE)\n",
    "head(muestra1) "
   ]
  },
  {
   "cell_type": "code",
   "execution_count": 10,
   "metadata": {
    "scrolled": false,
    "slideshow": {
     "slide_type": "subslide"
    }
   },
   "outputs": [
    {
     "data": {
      "image/png": "[encoded data removed]",
      "text/plain": [
       "Plot with title \"Histogram of edad\""
      ]
     },
     "metadata": {},
     "output_type": "display_data"
    }
   ],
   "source": [
    "par(mfrow=c(3,1))\n",
    "with(edad[muestra1,], plot(facultad,edad))\n",
    "with(edad[muestra1,], plot(edad, pch = 20))\n",
    "with(edad[muestra1,], hist(edad, nclass = 50))\n",
    "par(mfrow=c(1,1))"
   ]
  },
  {
   "cell_type": "markdown",
   "metadata": {
    "slideshow": {
     "slide_type": "slide"
    }
   },
   "source": [
    "Cambiemos el tamaño de la muestra y miremos el comportamiento:"
   ]
  },
  {
   "cell_type": "code",
   "execution_count": 11,
   "metadata": {
    "slideshow": {
     "slide_type": "subslide"
    }
   },
   "outputs": [
    {
     "data": {
      "text/html": [
       "<ol class=list-inline>\n",
       "\t<li>15453</li>\n",
       "\t<li>2591</li>\n",
       "\t<li>6997</li>\n",
       "\t<li>2517</li>\n",
       "\t<li>8495</li>\n",
       "\t<li>19828</li>\n",
       "</ol>\n"
      ],
      "text/latex": [
       "\\begin{enumerate*}\n",
       "\\item 15453\n",
       "\\item 2591\n",
       "\\item 6997\n",
       "\\item 2517\n",
       "\\item 8495\n",
       "\\item 19828\n",
       "\\end{enumerate*}\n"
      ],
      "text/markdown": [
       "1. 15453\n",
       "2. 2591\n",
       "3. 6997\n",
       "4. 2517\n",
       "5. 8495\n",
       "6. 19828\n",
       "\n",
       "\n"
      ],
      "text/plain": [
       "[1] 15453  2591  6997  2517  8495 19828"
      ]
     },
     "metadata": {},
     "output_type": "display_data"
    }
   ],
   "source": [
    "n2<-200\n",
    "muestra2<- sample(1:nrow(edad),size=n2,replace=FALSE)\n",
    "head(muestra2)"
   ]
  },
  {
   "cell_type": "code",
   "execution_count": 12,
   "metadata": {
    "scrolled": false,
    "slideshow": {
     "slide_type": "subslide"
    }
   },
   "outputs": [
    {
     "data": {
      "image/png": "[encoded data removed]",
      "text/plain": [
       "Plot with title \"Histogram of edad\""
      ]
     },
     "metadata": {},
     "output_type": "display_data"
    }
   ],
   "source": [
    "par(mfrow=c(3,1))\n",
    "with(edad[muestra2,], plot(facultad,edad))\n",
    "with(edad[muestra2,], plot(edad, pch = 20))\n",
    "with(edad[muestra2,], hist(edad, nclass = 50))\n",
    "par(mfrow=c(1,1))"
   ]
  },
  {
   "cell_type": "markdown",
   "metadata": {
    "slideshow": {
     "slide_type": "slide"
    }
   },
   "source": [
    "Aparentemente, entre más grande la muestra, más se parece a la población; sin embargo, el muestreo está asociado a un nivel de confianza y un nivel de error que son, al final, los que ayudan a determinar el tamaño adecuado de la muestra.\n",
    "\n",
    "Pero, veamos si las muestras que hemos construido tiene algún parecido con la población. Para ellos, calculemos algunas medidas:"
   ]
  },
  {
   "cell_type": "code",
   "execution_count": 13,
   "metadata": {
    "slideshow": {
     "slide_type": "subslide"
    }
   },
   "outputs": [],
   "source": [
    "mystats <- function(x, na.omit=FALSE){\n",
    "  if (na.omit)\n",
    "    x <- x[!is.na(x)]\n",
    "  m <- mean(x)\n",
    "  n <- length(x)\n",
    "  s <- sd(x)\n",
    "  skew <- sum((x-m)^3/s^3)/n\n",
    "  kurt <- sum((x-m)^4/s^4)/n - 3\n",
    "  return(c(\"tamaño\"=n, \"media\"=m, \"desviación estándar\"=s, \"simetría\"=skew, \"kurtosis\"=kurt))\n",
    "}"
   ]
  },
  {
   "cell_type": "code",
   "execution_count": 14,
   "metadata": {
    "scrolled": false,
    "slideshow": {
     "slide_type": "subslide"
    }
   },
   "outputs": [
    {
     "data": {
      "text/html": [
       "<table>\n",
       "<thead><tr><th></th><th scope=col>pop</th><th scope=col>m1</th><th scope=col>m2</th></tr></thead>\n",
       "<tbody>\n",
       "\t<tr><th scope=row>tamaño</th><td>24040.0</td><td>30.0   </td><td>200.0  </td></tr>\n",
       "\t<tr><th scope=row>media</th><td>   23.0</td><td>23.3   </td><td> 22.6  </td></tr>\n",
       "\t<tr><th scope=row>desviación estándar</th><td>    5.7</td><td> 6.7   </td><td>  4.9  </td></tr>\n",
       "\t<tr><th scope=row>simetría</th><td>    2.4</td><td> 2.2   </td><td>  2.1  </td></tr>\n",
       "\t<tr><th scope=row>kurtosis</th><td>    8.2</td><td> 5.2   </td><td>  6.2  </td></tr>\n",
       "</tbody>\n",
       "</table>\n"
      ],
      "text/latex": [
       "\\begin{tabular}{r|lll}\n",
       "  & pop & m1 & m2\\\\\n",
       "\\hline\n",
       "\ttamaño & 24040.0 & 30.0    & 200.0  \\\\\n",
       "\tmedia &    23.0 & 23.3    &  22.6  \\\\\n",
       "\tdesviación estándar &     5.7 &  6.7    &   4.9  \\\\\n",
       "\tsimetría &     2.4 &  2.2    &   2.1  \\\\\n",
       "\tkurtosis &     8.2 &  5.2    &   6.2  \\\\\n",
       "\\end{tabular}\n"
      ],
      "text/markdown": [
       "\n",
       "| <!--/--> | pop | m1 | m2 |\n",
       "|---|---|---|---|\n",
       "| tamaño | 24040.0 | 30.0    | 200.0   |\n",
       "| media |    23.0 | 23.3    |  22.6   |\n",
       "| desviación estándar |     5.7 |  6.7    |   4.9   |\n",
       "| simetría |     2.4 |  2.2    |   2.1   |\n",
       "| kurtosis |     8.2 |  5.2    |   6.2   |\n",
       "\n"
      ],
      "text/plain": [
       "                    pop     m1   m2   \n",
       "tamaño              24040.0 30.0 200.0\n",
       "media                  23.0 23.3  22.6\n",
       "desviación estándar     5.7  6.7   4.9\n",
       "simetría                2.4  2.2   2.1\n",
       "kurtosis                8.2  5.2   6.2"
      ]
     },
     "metadata": {},
     "output_type": "display_data"
    }
   ],
   "source": [
    "pop<-round(mystats(edad[,'edad']),1)\n",
    "m1<-round(mystats(edad[muestra1,'edad']),1)\n",
    "m2<-round(mystats(edad[muestra2,'edad']),1)\n",
    "data.frame(pop,m1,m2)"
   ]
  },
  {
   "cell_type": "markdown",
   "metadata": {
    "slideshow": {
     "slide_type": "slide"
    }
   },
   "source": [
    "Antes de avanzar, respondamos algunas preguntas\n",
    "* ¿Qué se aprecia en los resultados?\n",
    "* ¿Qué diferencias y similitudes se puden ver?\n",
    "* ¿Qué se podría hacer?\n",
    "\n",
    "Podría decirse que los valores son muy parecidos, que la muestra pequeña y la grande son bastante parecidas a la población y, por inducción, que es representativa. Sin embargo, dependiendo de los características de la población, se requiere de un adecuado diseño más complejo de la muestra, empezando por seleccionar el tamaño adecuado."
   ]
  },
  {
   "cell_type": "markdown",
   "metadata": {
    "slideshow": {
     "slide_type": "slide"
    }
   },
   "source": [
    "## Algunos conceptos básicos:\n",
    "\n",
    "Veamos algunas definiciones que serán básicas en la comprensión del muestreo:\n",
    "\n",
    "* **Universo:** Es un conjunto finito o infinito de animales, seres, cosas, etc. En términos de esta definición puede hablarse de un universo de individuo, animales, vehículos, etc.\n",
    "* **Población:** Son cada unas de las variables que se definen sobre un universo. Mediante esta definición puede hacerse notar que puede existir más de una población asociada a un mismo universo."
   ]
  },
  {
   "cell_type": "markdown",
   "metadata": {
    "slideshow": {
     "slide_type": "subslide"
    }
   },
   "source": [
    "* **Unidades Estadísticas:** Son requeridas por el diseñador, por una parte para saber cuál es la estrategia a seguir para la medición y, por otra, pensar en la estructura del marco de referencia de las unidades a ser estudiadas. Estas unidades son: la de investigación, análisis, observación y de muestreo.\n",
    "> * **Unidad de Investigación:** Esta se refiere a la que contiene las partes que se van a analizar. Algunos ejemplos aclaran este concepto. En la encuesta de hogares para el estudio de la fuerza de trabajo que realiza el Instituto Nacional de Estadística, el motivo de la investigación es el hogar el cual contiene las unidades a examinar, es decir las, las personas. El estudio antropométrico que realiza Fundacredesa la unidad a investigar es el individuo, el cual contiene las partes del cuerpo que se van a analizar, mientras que en estudios sobre el sector industrial, la unidad de investigación esta dada por el establecimiento."
   ]
  },
  {
   "cell_type": "markdown",
   "metadata": {
    "slideshow": {
     "slide_type": "subslide"
    }
   },
   "source": [
    "> * **Unidad de Análisis:** Comprende la unidad que se analiza, vale decir, de la que se busca la información y su naturaleza depende de los objetivos del estudio. Esta unidad puede ser el hogar, las partes del cuerpo de las personas, la granja, el establecimiento, etc. Las unidades de análisis reciben frecuentemente el nombre de “Elementos de la Población”\n",
    "> * **Unidad de Observación:** Se denomina con este nombre a la unidad a través de la cual se obtiene la información, pudiendo o no coincidir con el elemento. Por ejemplo cada uno de los miembros del hogar puede constituir un elemento de la población y sin embargo ser sólo uno de ellos, por ejemplo, el jefe del hogar, quien proporcione la información requerida. Este último por tanto, constituirá la unidad de observación, también llamada unidad respondiente.\n",
    "> * **Unidad de Muestreo:** Será un individuo o conjunto de individuos que se seleccionan en una única extracción. Como requisito se exige que el elemento o el grupo de elementos que componen el estudio reúnan las características de la población."
   ]
  },
  {
   "cell_type": "markdown",
   "metadata": {
    "slideshow": {
     "slide_type": "subslide"
    }
   },
   "source": [
    "* **Muestreo:** El procedimiento mediante el cual obtenemos una o mas muestras recibe el nombre de muestreo. Obtener una muestra adecuada significa lograr una versión simplificada de la población, que reproduzca de algún modo sus rasgos básicos en términos de variación y localización.\n",
    "* **Error de Muestreo:** El error que se comete debido al hecho de que se obtienen conclusiones sobre cierta realidad a partir de la observación de sólo una parte de ella.\n",
    "* **Marco del Muestreo:** El conjunto de todas las unidades muestreadas consideradas.\n",
    "* **Variables:** Rasgos o magnitudes que varían de unos individuos a otros. Se refiere a las características particulares que podría presentarse en uno o varios elementos de los que componen la población estudiada.\n",
    "* **Características Poblacionales (parámetros):** Las más habituales como la media poblacional, el total poblacional y la proporción poblacional, entre otras características de la población se podrían citar la varianza, la mediana, la moda, entre otros.\n",
    "* **Estadísticos:** Son funciones de los valores muestrales. Algunos de ellos se utilizan para estimar los parámetros (en general desconocidos), partiendo de los datos recabados en una investigación por muestreo"
   ]
  },
  {
   "cell_type": "markdown",
   "metadata": {
    "slideshow": {
     "slide_type": "subslide"
    }
   },
   "source": [
    "### ¿Por qué muestrear?\n",
    "\n",
    "Esta pregunta, aunque simple, es completamente válida. Existen muchas razones para trabajar con muestras y no censar. Las más claras son:\n",
    "\n",
    "* Resulta mas económica la muestra que una enumeración completa.\n",
    "* El tiempo para obtener los resultados a través de una muestra es sustancialmente mas pequeño que para obtenerlo por la vía del censo, si el tamaño del universo es grande.\n",
    "* La calidad de la información muestral es superior, ya que se puede concentrar más la atención en los casos individuales de la muestra y ejercer mayor control sobre ellos que una operación censal.\n",
    "* Cuando el proceso de medida o examen de las características de cada elemento sea destructivo o disminuya su valor, por ejemplo, si se desea determinar la vida útil promedio de bombillos.\n",
    "* Cuando la población sea considerada como infinita o tan grande que el tratamiento total exceda las posibilidades del investigador.\n",
    "* Cuando los elementos de la población sean suficientemente homogéneos. Un buen ejemplo de esto lo constituye un análisis de sangre, ya que los componentes de la sangre son los mismos en cualquier  parte del cuerpo donde se encuentre ubicada."
   ]
  },
  {
   "cell_type": "markdown",
   "metadata": {
    "slideshow": {
     "slide_type": "slide"
    }
   },
   "source": [
    "## Tipos de Muestreo"
   ]
  },
  {
   "cell_type": "markdown",
   "metadata": {
    "slideshow": {
     "slide_type": "subslide"
    }
   },
   "source": [
    "No hay un único tipo de muestreo. Según las características de los individuos que conforman la población. Veamos algunos:"
   ]
  },
  {
   "cell_type": "markdown",
   "metadata": {
    "slideshow": {
     "slide_type": "subslide"
    }
   },
   "source": [
    "### Muestreo Aleatorio Simple (MAS)\n",
    "\n",
    "Consiste en la selección de $n$ elementos entre los $N$ constituyen la población, de modo que todas las muestras posibles de tamaño $n$ (tantas como combinaciones de $N$ elementos de $n$ en $n$) tengan la misma probabilidad $\\frac{1}{\\left( \\begin{smallmatrix} N \\\\ n \\end{smallmatrix} \\right)}$ de ser obtenidas.\n",
    "\n",
    "Dado lo anterior, la probabilidad de cada elemento se calcula así:\n",
    "\n",
    "$$\n",
    "\\frac{1}{\\left( \\begin{smallmatrix} N \\\\ n \\end{smallmatrix} \\right)} \\left( \\begin{smallmatrix} N - 1 \\\\ n - 1\\end{smallmatrix} \\right) = \\left( \\begin{smallmatrix} n \\\\ N \\end{smallmatrix} \\right)\n",
    "$$\n"
   ]
  },
  {
   "cell_type": "markdown",
   "metadata": {
    "slideshow": {
     "slide_type": "subslide"
    }
   },
   "source": [
    "El MAS tiene sus propios parámetros:\n",
    "\n",
    "**Media Poblacional:**\n",
    "$$\n",
    "\\overline{Y} = \\overline{y} = \\sum \\frac{y_{1}}{n}\n",
    "$$\n",
    "**Total Poblacional:**\n",
    "$$\n",
    "\\widehat{Y} = N \\overline{y}\n",
    "$$\n",
    "**Varianza Poblacional:**\n",
    "$$\n",
    "\\sigma(\\overline{y}) = \\frac{s^{2}}{n} \\frac{N-n}{N}\n",
    "$$\n",
    "**Varianza Total:**\n",
    "$$\n",
    "\\sigma(\\widehat{Y}) = \\frac{N^{2}s^{2}}{n} \\frac{N-n}{N}\n",
    "$$\n"
   ]
  },
  {
   "cell_type": "markdown",
   "metadata": {
    "slideshow": {
     "slide_type": "slide"
    }
   },
   "source": [
    "### ¿cuándo se realiza el muestreo aleatorio simple?\n",
    "\n",
    "El MAS se realiza cuando la población no se encuentra subdividida o sus subdivisiones no son de importancia para el estudio.\n",
    "\n",
    "#### Ejemplo\n",
    "\n",
    "Sigamos usando como base la tabla con la información de la edad de la población de estudiantes UIS:"
   ]
  },
  {
   "cell_type": "code",
   "execution_count": 15,
   "metadata": {
    "scrolled": true,
    "slideshow": {
     "slide_type": "slide"
    }
   },
   "outputs": [
    {
     "data": {
      "text/html": [
       "<table>\n",
       "<thead><tr><th scope=col>codigo</th><th scope=col>edad</th><th scope=col>facultad</th></tr></thead>\n",
       "<tbody>\n",
       "\t<tr><td>2158108 </td><td>30      </td><td>CIENCIAS</td></tr>\n",
       "\t<tr><td>2188261 </td><td>26      </td><td>CIENCIAS</td></tr>\n",
       "\t<tr><td>2168284 </td><td>30      </td><td>CIENCIAS</td></tr>\n",
       "\t<tr><td>2168283 </td><td>28      </td><td>CIENCIAS</td></tr>\n",
       "\t<tr><td>2178275 </td><td>28      </td><td>CIENCIAS</td></tr>\n",
       "\t<tr><td>2188259 </td><td>28      </td><td>CIENCIAS</td></tr>\n",
       "</tbody>\n",
       "</table>\n"
      ],
      "text/latex": [
       "\\begin{tabular}{r|lll}\n",
       " codigo & edad & facultad\\\\\n",
       "\\hline\n",
       "\t 2158108  & 30       & CIENCIAS\\\\\n",
       "\t 2188261  & 26       & CIENCIAS\\\\\n",
       "\t 2168284  & 30       & CIENCIAS\\\\\n",
       "\t 2168283  & 28       & CIENCIAS\\\\\n",
       "\t 2178275  & 28       & CIENCIAS\\\\\n",
       "\t 2188259  & 28       & CIENCIAS\\\\\n",
       "\\end{tabular}\n"
      ],
      "text/markdown": [
       "\n",
       "| codigo | edad | facultad |\n",
       "|---|---|---|\n",
       "| 2158108  | 30       | CIENCIAS |\n",
       "| 2188261  | 26       | CIENCIAS |\n",
       "| 2168284  | 30       | CIENCIAS |\n",
       "| 2168283  | 28       | CIENCIAS |\n",
       "| 2178275  | 28       | CIENCIAS |\n",
       "| 2188259  | 28       | CIENCIAS |\n",
       "\n"
      ],
      "text/plain": [
       "  codigo  edad facultad\n",
       "1 2158108 30   CIENCIAS\n",
       "2 2188261 26   CIENCIAS\n",
       "3 2168284 30   CIENCIAS\n",
       "4 2168283 28   CIENCIAS\n",
       "5 2178275 28   CIENCIAS\n",
       "6 2188259 28   CIENCIAS"
      ]
     },
     "metadata": {},
     "output_type": "display_data"
    }
   ],
   "source": [
    "head(edad)"
   ]
  },
  {
   "cell_type": "markdown",
   "metadata": {
    "slideshow": {
     "slide_type": "slide"
    }
   },
   "source": [
    "Vamos a obviar la variable facultad, para los propósitos del estudio (supuesto) no nos interesa, sólo es de interés analizar la edad de los estudiantes sin considerar ningún tipo de agrupamiento. En ese aspecto, cualquier muestra que seleccionemos será un MAS. En la sección anterior habíamos tomado dos muestras para ilustrar, tomemos una muestra más y comparemos:"
   ]
  },
  {
   "cell_type": "code",
   "execution_count": 16,
   "metadata": {
    "slideshow": {
     "slide_type": "subslide"
    }
   },
   "outputs": [
    {
     "data": {
      "text/html": [
       "<ol class=list-inline>\n",
       "\t<li>2797</li>\n",
       "\t<li>19939</li>\n",
       "\t<li>2018</li>\n",
       "\t<li>19960</li>\n",
       "\t<li>5426</li>\n",
       "\t<li>6710</li>\n",
       "</ol>\n"
      ],
      "text/latex": [
       "\\begin{enumerate*}\n",
       "\\item 2797\n",
       "\\item 19939\n",
       "\\item 2018\n",
       "\\item 19960\n",
       "\\item 5426\n",
       "\\item 6710\n",
       "\\end{enumerate*}\n"
      ],
      "text/markdown": [
       "1. 2797\n",
       "2. 19939\n",
       "3. 2018\n",
       "4. 19960\n",
       "5. 5426\n",
       "6. 6710\n",
       "\n",
       "\n"
      ],
      "text/plain": [
       "[1]  2797 19939  2018 19960  5426  6710"
      ]
     },
     "metadata": {},
     "output_type": "display_data"
    }
   ],
   "source": [
    "n3<-500\n",
    "muestra3<- sample(1:nrow(edad),size=n3,replace=FALSE)\n",
    "head(muestra3)"
   ]
  },
  {
   "cell_type": "code",
   "execution_count": 17,
   "metadata": {
    "scrolled": false,
    "slideshow": {
     "slide_type": "subslide"
    }
   },
   "outputs": [
    {
     "data": {
      "image/png": "[encoded data removed]",
      "text/plain": [
       "Plot with title \"Histogram of edad\""
      ]
     },
     "metadata": {},
     "output_type": "display_data"
    }
   ],
   "source": [
    "par(mfrow=c(3,1))\n",
    "with(edad[muestra3,], plot(facultad,edad))\n",
    "with(edad[muestra3,], plot(edad, pch = 20))\n",
    "with(edad[muestra3,], hist(edad, nclass = 50))\n",
    "par(mfrow=c(1,1))"
   ]
  },
  {
   "cell_type": "code",
   "execution_count": 18,
   "metadata": {
    "scrolled": true,
    "slideshow": {
     "slide_type": "subslide"
    }
   },
   "outputs": [
    {
     "data": {
      "text/html": [
       "<table>\n",
       "<thead><tr><th></th><th scope=col>pop</th><th scope=col>m1</th><th scope=col>m2</th><th scope=col>m3</th></tr></thead>\n",
       "<tbody>\n",
       "\t<tr><th scope=row>tamaño</th><td>24040.0</td><td>30.0   </td><td>200.0  </td><td>500.0  </td></tr>\n",
       "\t<tr><th scope=row>media</th><td>   23.0</td><td>23.3   </td><td> 22.6  </td><td> 23.3  </td></tr>\n",
       "\t<tr><th scope=row>desviación estándar</th><td>    5.7</td><td> 6.7   </td><td>  4.9  </td><td>  6.1  </td></tr>\n",
       "\t<tr><th scope=row>simetría</th><td>    2.4</td><td> 2.2   </td><td>  2.1  </td><td>  2.1  </td></tr>\n",
       "\t<tr><th scope=row>kurtosis</th><td>    8.2</td><td> 5.2   </td><td>  6.2  </td><td>  5.5  </td></tr>\n",
       "</tbody>\n",
       "</table>\n"
      ],
      "text/latex": [
       "\\begin{tabular}{r|llll}\n",
       "  & pop & m1 & m2 & m3\\\\\n",
       "\\hline\n",
       "\ttamaño & 24040.0 & 30.0    & 200.0   & 500.0  \\\\\n",
       "\tmedia &    23.0 & 23.3    &  22.6   &  23.3  \\\\\n",
       "\tdesviación estándar &     5.7 &  6.7    &   4.9   &   6.1  \\\\\n",
       "\tsimetría &     2.4 &  2.2    &   2.1   &   2.1  \\\\\n",
       "\tkurtosis &     8.2 &  5.2    &   6.2   &   5.5  \\\\\n",
       "\\end{tabular}\n"
      ],
      "text/markdown": [
       "\n",
       "| <!--/--> | pop | m1 | m2 | m3 |\n",
       "|---|---|---|---|---|\n",
       "| tamaño | 24040.0 | 30.0    | 200.0   | 500.0   |\n",
       "| media |    23.0 | 23.3    |  22.6   |  23.3   |\n",
       "| desviación estándar |     5.7 |  6.7    |   4.9   |   6.1   |\n",
       "| simetría |     2.4 |  2.2    |   2.1   |   2.1   |\n",
       "| kurtosis |     8.2 |  5.2    |   6.2   |   5.5   |\n",
       "\n"
      ],
      "text/plain": [
       "                    pop     m1   m2    m3   \n",
       "tamaño              24040.0 30.0 200.0 500.0\n",
       "media                  23.0 23.3  22.6  23.3\n",
       "desviación estándar     5.7  6.7   4.9   6.1\n",
       "simetría                2.4  2.2   2.1   2.1\n",
       "kurtosis                8.2  5.2   6.2   5.5"
      ]
     },
     "metadata": {},
     "output_type": "display_data"
    }
   ],
   "source": [
    "pop<-round(mystats(edad[,'edad']),1)\n",
    "m1<-round(mystats(edad[muestra1,'edad']),1)\n",
    "m2<-round(mystats(edad[muestra2,'edad']),1)\n",
    "m3<-round(mystats(edad[muestra3,'edad']),1)\n",
    "data.frame(pop,m1,m2,m3)"
   ]
  },
  {
   "cell_type": "markdown",
   "metadata": {
    "slideshow": {
     "slide_type": "slide"
    }
   },
   "source": [
    "Comparemos todos los gráficos. Como hemos establecido que no es de nuestro interés la variable _facultad_ no consideraremos los diagramas de caja para cada facultad"
   ]
  },
  {
   "cell_type": "code",
   "execution_count": 19,
   "metadata": {
    "scrolled": false,
    "slideshow": {
     "slide_type": "subslide"
    }
   },
   "outputs": [
    {
     "data": {
      "image/png": "[encoded data removed]",
      "text/plain": [
       "Plot with title \"Muestra 3 (500)\""
      ]
     },
     "metadata": {},
     "output_type": "display_data"
    }
   ],
   "source": [
    "par(mfrow=c(3,4))\n",
    "with(edad, boxplot(edad, main = 'Población', ylim=c(0,85)))\n",
    "with(edad[muestra1,], boxplot(edad, main = 'Muestra 1 (30)', ylim=c(0,85)))\n",
    "with(edad[muestra2,], boxplot(edad, main = 'Muestra 2 (200)', ylim=c(0,85)))\n",
    "with(edad[muestra3,], boxplot(edad, main = 'Muestra 3 (500)', ylim=c(0,85)))\n",
    "with(edad, plot(edad, pch = 20, main = 'Población'))\n",
    "with(edad[muestra1,], plot(edad, pch = 20, main = 'Muestra 1 (30)', ylim=c(0,85)))\n",
    "with(edad[muestra2,], plot(edad, pch = 20, main = 'Muestra 2 (200)', ylim=c(0,85)))\n",
    "with(edad[muestra3,], plot(edad, pch = 20, main = 'Muestra 3 (500)', ylim=c(0,85)))\n",
    "with(edad, hist(edad, nclass = 50, main = 'Población'))\n",
    "with(edad[muestra1,], hist(edad, nclass = 50, main = 'Muestra 1 (30)'))\n",
    "with(edad[muestra2,], hist(edad, nclass = 50, main = 'Muestra 2 (200)'))\n",
    "with(edad[muestra3,], hist(edad, nclass = 50, main = 'Muestra 3 (500)'))\n",
    "par(mfrow=c(1,1))"
   ]
  },
  {
   "cell_type": "markdown",
   "metadata": {
    "slideshow": {
     "slide_type": "subslide"
    }
   },
   "source": [
    "Como observamos, el tamaño de la muestra es determinante en su 'representatividad'. De ello hablaremos más adelante, por el momento sigamos viendo otros tipos de muestreo)"
   ]
  },
  {
   "cell_type": "markdown",
   "metadata": {
    "slideshow": {
     "slide_type": "slide"
    }
   },
   "source": [
    "### Muestreo Estratificado\n",
    "\n",
    "En el MAS no hacemos distinción si la población se encuentra dividida en _subpoblaciones_ o estratos; ahora, si tomamos en cuenta esta característica (en el ejemplo que hemos venido desarrollando son las facultades) es necesario construir la muestra de manera tal que contenga elementos de cada estrato. Estas _subpoblaciones_ no se sobreponen y, juntas, forman la población total. Entonces tenemos:\n",
    "\n",
    "$$\n",
    "N_{1} + N_{2} + \\dots + N_{L} = \\sum_{i=1}^{L} N_{i} = N\n",
    "$$\n",
    "\n",
    "Una vez que hayamos identificado los estratos, sacamos una muestra de cada uno, esto es equivalente a realizar un MAS en cada uno de los estratos y se conoce como Muestreo Estratificado. Sigamos con el ejemplo de la edad de los estudiantes.\n",
    "\n",
    "En primer lugar, tenemos que traer dos librerías que nos van a soportar algunas funciones:"
   ]
  },
  {
   "cell_type": "code",
   "execution_count": 20,
   "metadata": {
    "slideshow": {
     "slide_type": "subslide"
    }
   },
   "outputs": [
    {
     "name": "stderr",
     "output_type": "stream",
     "text": [
      "\n",
      "Attaching package: 'dplyr'\n",
      "\n",
      "The following objects are masked from 'package:stats':\n",
      "\n",
      "    filter, lag\n",
      "\n",
      "The following objects are masked from 'package:base':\n",
      "\n",
      "    intersect, setdiff, setequal, union\n",
      "\n"
     ]
    }
   ],
   "source": [
    "library(magrittr) # Permite leer la función %>%\n",
    "library(dplyr) # Contiene la función select"
   ]
  },
  {
   "cell_type": "markdown",
   "metadata": {
    "slideshow": {
     "slide_type": "slide"
    }
   },
   "source": [
    "Instaladas y llamadas las librerías, vamos a identificar los estratos:"
   ]
  },
  {
   "cell_type": "code",
   "execution_count": 21,
   "metadata": {
    "scrolled": true,
    "slideshow": {
     "slide_type": "subslide"
    }
   },
   "outputs": [
    {
     "data": {
      "text/html": [
       "<table>\n",
       "<thead><tr><th scope=col>facultad</th><th scope=col>n</th><th scope=col>s</th><th scope=col>p</th></tr></thead>\n",
       "<tbody>\n",
       "\t<tr><td>C. HUMANAS  </td><td>4115        </td><td> 6.104970   </td><td>0.1711730449</td></tr>\n",
       "\t<tr><td>CEDEDUIS    </td><td>  19        </td><td>11.373767   </td><td>0.0007903494</td></tr>\n",
       "\t<tr><td>CIENCIAS    </td><td>1661        </td><td> 5.008459   </td><td>0.0690931780</td></tr>\n",
       "\t<tr><td>F.MECÁNICAS </td><td>8982        </td><td> 4.771159   </td><td>0.3736272879</td></tr>\n",
       "\t<tr><td>F.QUÍMICAS  </td><td>4259        </td><td> 5.158950   </td><td>0.1771630616</td></tr>\n",
       "\t<tr><td>IPRED       </td><td>3129        </td><td> 7.855062   </td><td>0.1301580699</td></tr>\n",
       "\t<tr><td>SALUD       </td><td>1875        </td><td> 4.124805   </td><td>0.0779950083</td></tr>\n",
       "</tbody>\n",
       "</table>\n"
      ],
      "text/latex": [
       "\\begin{tabular}{r|llll}\n",
       " facultad & n & s & p\\\\\n",
       "\\hline\n",
       "\t C. HUMANAS   & 4115         &  6.104970    & 0.1711730449\\\\\n",
       "\t CEDEDUIS     &   19         & 11.373767    & 0.0007903494\\\\\n",
       "\t CIENCIAS     & 1661         &  5.008459    & 0.0690931780\\\\\n",
       "\t F.MECÁNICAS  & 8982         &  4.771159    & 0.3736272879\\\\\n",
       "\t F.QUÍMICAS   & 4259         &  5.158950    & 0.1771630616\\\\\n",
       "\t IPRED        & 3129         &  7.855062    & 0.1301580699\\\\\n",
       "\t SALUD        & 1875         &  4.124805    & 0.0779950083\\\\\n",
       "\\end{tabular}\n"
      ],
      "text/markdown": [
       "\n",
       "| facultad | n | s | p |\n",
       "|---|---|---|---|\n",
       "| C. HUMANAS   | 4115         |  6.104970    | 0.1711730449 |\n",
       "| CEDEDUIS     |   19         | 11.373767    | 0.0007903494 |\n",
       "| CIENCIAS     | 1661         |  5.008459    | 0.0690931780 |\n",
       "| F.MECÁNICAS  | 8982         |  4.771159    | 0.3736272879 |\n",
       "| F.QUÍMICAS   | 4259         |  5.158950    | 0.1771630616 |\n",
       "| IPRED        | 3129         |  7.855062    | 0.1301580699 |\n",
       "| SALUD        | 1875         |  4.124805    | 0.0779950083 |\n",
       "\n"
      ],
      "text/plain": [
       "  facultad    n    s         p           \n",
       "1 C. HUMANAS  4115  6.104970 0.1711730449\n",
       "2 CEDEDUIS      19 11.373767 0.0007903494\n",
       "3 CIENCIAS    1661  5.008459 0.0690931780\n",
       "4 F.MECÁNICAS 8982  4.771159 0.3736272879\n",
       "5 F.QUÍMICAS  4259  5.158950 0.1771630616\n",
       "6 IPRED       3129  7.855062 0.1301580699\n",
       "7 SALUD       1875  4.124805 0.0779950083"
      ]
     },
     "metadata": {},
     "output_type": "display_data"
    }
   ],
   "source": [
    "Estratos<- edad %>%\n",
    "  select(facultad,edad) %>%\n",
    "  group_by(facultad) %>%\n",
    "  summarise(n=n(),\n",
    "            s=sd(edad)) %>%\n",
    "  mutate(p=n/sum(n))\n",
    "\n",
    "Estratos"
   ]
  },
  {
   "cell_type": "markdown",
   "metadata": {
    "slideshow": {
     "slide_type": "slide"
    }
   },
   "source": [
    "Es importante notar la distribución de frecuencias en los estratos. Estas nos permitirán seleccionar adecuadamente cada muestra. Vamos a usar los tamaños previos: `30`, `200` y `500`:"
   ]
  },
  {
   "cell_type": "code",
   "execution_count": 22,
   "metadata": {
    "slideshow": {
     "slide_type": "subslide"
    }
   },
   "outputs": [],
   "source": [
    "library('SamplingUtil') # Contiene la función nstrata"
   ]
  },
  {
   "cell_type": "code",
   "execution_count": 23,
   "metadata": {
    "scrolled": false,
    "slideshow": {
     "slide_type": "subslide"
    }
   },
   "outputs": [],
   "source": [
    "nsizeProp30<-nstrata(n=30,wh=Estratos[,4],method=\"proportional\")\n",
    "nsizeProp200<-nstrata(n=200,wh=Estratos[,4],method=\"proportional\")\n",
    "nsizeProp500<-nstrata(n=500,wh=Estratos[,4],method=\"proportional\")"
   ]
  },
  {
   "cell_type": "code",
   "execution_count": 24,
   "metadata": {
    "slideshow": {
     "slide_type": "subslide"
    }
   },
   "outputs": [
    {
     "data": {
      "text/html": [
       "<table>\n",
       "<thead><tr><th scope=col>fac</th><th scope=col>p</th><th scope=col>p.1</th><th scope=col>p.2</th></tr></thead>\n",
       "<tbody>\n",
       "\t<tr><td>C. HUMANAS </td><td> 6         </td><td>35         </td><td> 86        </td></tr>\n",
       "\t<tr><td>CEDEDUIS   </td><td> 1         </td><td> 1         </td><td>  1        </td></tr>\n",
       "\t<tr><td>CIENCIAS   </td><td> 3         </td><td>14         </td><td> 35        </td></tr>\n",
       "\t<tr><td>F.MECÁNICAS</td><td>12         </td><td>75         </td><td>187        </td></tr>\n",
       "\t<tr><td>F.QUÍMICAS </td><td> 6         </td><td>36         </td><td> 89        </td></tr>\n",
       "\t<tr><td>IPRED      </td><td> 4         </td><td>27         </td><td> 66        </td></tr>\n",
       "\t<tr><td>SALUD      </td><td> 3         </td><td>16         </td><td> 39        </td></tr>\n",
       "</tbody>\n",
       "</table>\n"
      ],
      "text/latex": [
       "\\begin{tabular}{r|llll}\n",
       " fac & p & p.1 & p.2\\\\\n",
       "\\hline\n",
       "\t C. HUMANAS  &  6          & 35          &  86        \\\\\n",
       "\t CEDEDUIS    &  1          &  1          &   1        \\\\\n",
       "\t CIENCIAS    &  3          & 14          &  35        \\\\\n",
       "\t F.MECÁNICAS & 12          & 75          & 187        \\\\\n",
       "\t F.QUÍMICAS  &  6          & 36          &  89        \\\\\n",
       "\t IPRED       &  4          & 27          &  66        \\\\\n",
       "\t SALUD       &  3          & 16          &  39        \\\\\n",
       "\\end{tabular}\n"
      ],
      "text/markdown": [
       "\n",
       "| fac | p | p.1 | p.2 |\n",
       "|---|---|---|---|\n",
       "| C. HUMANAS  |  6          | 35          |  86         |\n",
       "| CEDEDUIS    |  1          |  1          |   1         |\n",
       "| CIENCIAS    |  3          | 14          |  35         |\n",
       "| F.MECÁNICAS | 12          | 75          | 187         |\n",
       "| F.QUÍMICAS  |  6          | 36          |  89         |\n",
       "| IPRED       |  4          | 27          |  66         |\n",
       "| SALUD       |  3          | 16          |  39         |\n",
       "\n"
      ],
      "text/plain": [
       "  fac         p  p.1 p.2\n",
       "1 C. HUMANAS   6 35   86\n",
       "2 CEDEDUIS     1  1    1\n",
       "3 CIENCIAS     3 14   35\n",
       "4 F.MECÁNICAS 12 75  187\n",
       "5 F.QUÍMICAS   6 36   89\n",
       "6 IPRED        4 27   66\n",
       "7 SALUD        3 16   39"
      ]
     },
     "metadata": {},
     "output_type": "display_data"
    }
   ],
   "source": [
    "data.frame(fac=Estratos$facultad,nsizeProp30,nsizeProp200,nsizeProp500)"
   ]
  },
  {
   "cell_type": "markdown",
   "metadata": {
    "slideshow": {
     "slide_type": "slide"
    }
   },
   "source": [
    "Las proporciones se mantienen de manera relativa. Podemos notar que los valores son redondeados hacia el entero superior por lo que el tamaño de la muestra será mayor en este caso, si se compara con el MAS. La selección de la muestra se hace, entonces, dento de cada estrato:"
   ]
  },
  {
   "cell_type": "code",
   "execution_count": 25,
   "metadata": {
    "slideshow": {
     "slide_type": "subslide"
    }
   },
   "outputs": [
    {
     "data": {
      "text/html": [
       "<ol class=list-inline>\n",
       "\t<li>1934</li>\n",
       "\t<li>1786</li>\n",
       "\t<li>1508</li>\n",
       "\t<li>1456</li>\n",
       "\t<li>795</li>\n",
       "\t<li>25</li>\n",
       "</ol>\n"
      ],
      "text/latex": [
       "\\begin{enumerate*}\n",
       "\\item 1934\n",
       "\\item 1786\n",
       "\\item 1508\n",
       "\\item 1456\n",
       "\\item 795\n",
       "\\item 25\n",
       "\\end{enumerate*}\n"
      ],
      "text/markdown": [
       "1. 1934\n",
       "2. 1786\n",
       "3. 1508\n",
       "4. 1456\n",
       "5. 795\n",
       "6. 25\n",
       "\n",
       "\n"
      ],
      "text/plain": [
       "[1] 1934 1786 1508 1456  795   25"
      ]
     },
     "metadata": {},
     "output_type": "display_data"
    }
   ],
   "source": [
    "nhumanas30<-6\n",
    "muestrahumanas30<- sample(1:nrow(edad[edad$facultad=='C. HUMANAS',]),size=nhumanas30,replace=FALSE)\n",
    "muestrahumanas30"
   ]
  },
  {
   "cell_type": "code",
   "execution_count": 26,
   "metadata": {
    "scrolled": true,
    "slideshow": {
     "slide_type": "subslide"
    }
   },
   "outputs": [
    {
     "data": {
      "text/html": [
       "19"
      ],
      "text/latex": [
       "19"
      ],
      "text/markdown": [
       "19"
      ],
      "text/plain": [
       "[1] 19"
      ]
     },
     "metadata": {},
     "output_type": "display_data"
    }
   ],
   "source": [
    "ncedeuis30<-1\n",
    "muestracedeuis30<- sample(1:nrow(edad[edad$facultad=='CEDEDUIS',]),size=ncedeuis30,replace=FALSE)\n",
    "muestracedeuis30"
   ]
  },
  {
   "cell_type": "code",
   "execution_count": 27,
   "metadata": {
    "slideshow": {
     "slide_type": "subslide"
    }
   },
   "outputs": [
    {
     "data": {
      "text/html": [
       "<ol class=list-inline>\n",
       "\t<li>872</li>\n",
       "\t<li>466</li>\n",
       "\t<li>142</li>\n",
       "</ol>\n"
      ],
      "text/latex": [
       "\\begin{enumerate*}\n",
       "\\item 872\n",
       "\\item 466\n",
       "\\item 142\n",
       "\\end{enumerate*}\n"
      ],
      "text/markdown": [
       "1. 872\n",
       "2. 466\n",
       "3. 142\n",
       "\n",
       "\n"
      ],
      "text/plain": [
       "[1] 872 466 142"
      ]
     },
     "metadata": {},
     "output_type": "display_data"
    }
   ],
   "source": [
    "nciencias30<-3\n",
    "muestraciencias30<- sample(1:nrow(edad[edad$facultad=='CIENCIAS',]),size=nciencias30,replace=FALSE)\n",
    "muestraciencias30"
   ]
  },
  {
   "cell_type": "code",
   "execution_count": 28,
   "metadata": {
    "slideshow": {
     "slide_type": "subslide"
    }
   },
   "outputs": [
    {
     "data": {
      "text/html": [
       "<ol class=list-inline>\n",
       "\t<li>1156</li>\n",
       "\t<li>2843</li>\n",
       "\t<li>3358</li>\n",
       "\t<li>1724</li>\n",
       "\t<li>5328</li>\n",
       "\t<li>7753</li>\n",
       "\t<li>1461</li>\n",
       "\t<li>119</li>\n",
       "\t<li>4954</li>\n",
       "\t<li>5660</li>\n",
       "\t<li>8410</li>\n",
       "\t<li>6210</li>\n",
       "</ol>\n"
      ],
      "text/latex": [
       "\\begin{enumerate*}\n",
       "\\item 1156\n",
       "\\item 2843\n",
       "\\item 3358\n",
       "\\item 1724\n",
       "\\item 5328\n",
       "\\item 7753\n",
       "\\item 1461\n",
       "\\item 119\n",
       "\\item 4954\n",
       "\\item 5660\n",
       "\\item 8410\n",
       "\\item 6210\n",
       "\\end{enumerate*}\n"
      ],
      "text/markdown": [
       "1. 1156\n",
       "2. 2843\n",
       "3. 3358\n",
       "4. 1724\n",
       "5. 5328\n",
       "6. 7753\n",
       "7. 1461\n",
       "8. 119\n",
       "9. 4954\n",
       "10. 5660\n",
       "11. 8410\n",
       "12. 6210\n",
       "\n",
       "\n"
      ],
      "text/plain": [
       " [1] 1156 2843 3358 1724 5328 7753 1461  119 4954 5660 8410 6210"
      ]
     },
     "metadata": {},
     "output_type": "display_data"
    }
   ],
   "source": [
    "nmecanicas30<-12\n",
    "muestramecanicas30<- sample(1:nrow(edad[edad$facultad=='F.MECÁNICAS',]),size=nmecanicas30,replace=FALSE)\n",
    "muestramecanicas30"
   ]
  },
  {
   "cell_type": "code",
   "execution_count": 29,
   "metadata": {
    "slideshow": {
     "slide_type": "subslide"
    }
   },
   "outputs": [
    {
     "data": {
      "text/html": [
       "<ol class=list-inline>\n",
       "\t<li>293</li>\n",
       "\t<li>759</li>\n",
       "\t<li>3025</li>\n",
       "\t<li>2543</li>\n",
       "\t<li>2242</li>\n",
       "\t<li>3350</li>\n",
       "</ol>\n"
      ],
      "text/latex": [
       "\\begin{enumerate*}\n",
       "\\item 293\n",
       "\\item 759\n",
       "\\item 3025\n",
       "\\item 2543\n",
       "\\item 2242\n",
       "\\item 3350\n",
       "\\end{enumerate*}\n"
      ],
      "text/markdown": [
       "1. 293\n",
       "2. 759\n",
       "3. 3025\n",
       "4. 2543\n",
       "5. 2242\n",
       "6. 3350\n",
       "\n",
       "\n"
      ],
      "text/plain": [
       "[1]  293  759 3025 2543 2242 3350"
      ]
     },
     "metadata": {},
     "output_type": "display_data"
    }
   ],
   "source": [
    "nquimicas30<-6\n",
    "muestraquimicas30<- sample(1:nrow(edad[edad$facultad=='F.QUÍMICAS',]),size=nquimicas30,replace=FALSE)\n",
    "muestraquimicas30"
   ]
  },
  {
   "cell_type": "code",
   "execution_count": 30,
   "metadata": {
    "slideshow": {
     "slide_type": "subslide"
    }
   },
   "outputs": [
    {
     "data": {
      "text/html": [
       "<ol class=list-inline>\n",
       "\t<li>2703</li>\n",
       "\t<li>1943</li>\n",
       "\t<li>1089</li>\n",
       "\t<li>1616</li>\n",
       "</ol>\n"
      ],
      "text/latex": [
       "\\begin{enumerate*}\n",
       "\\item 2703\n",
       "\\item 1943\n",
       "\\item 1089\n",
       "\\item 1616\n",
       "\\end{enumerate*}\n"
      ],
      "text/markdown": [
       "1. 2703\n",
       "2. 1943\n",
       "3. 1089\n",
       "4. 1616\n",
       "\n",
       "\n"
      ],
      "text/plain": [
       "[1] 2703 1943 1089 1616"
      ]
     },
     "metadata": {},
     "output_type": "display_data"
    }
   ],
   "source": [
    "nipred30<-4\n",
    "muestraipred30<- sample(1:nrow(edad[edad$facultad=='IPRED',]),size=nipred30,replace=FALSE)\n",
    "muestraipred30"
   ]
  },
  {
   "cell_type": "code",
   "execution_count": 31,
   "metadata": {
    "slideshow": {
     "slide_type": "subslide"
    }
   },
   "outputs": [
    {
     "data": {
      "text/html": [
       "<ol class=list-inline>\n",
       "\t<li>1821</li>\n",
       "\t<li>863</li>\n",
       "\t<li>261</li>\n",
       "</ol>\n"
      ],
      "text/latex": [
       "\\begin{enumerate*}\n",
       "\\item 1821\n",
       "\\item 863\n",
       "\\item 261\n",
       "\\end{enumerate*}\n"
      ],
      "text/markdown": [
       "1. 1821\n",
       "2. 863\n",
       "3. 261\n",
       "\n",
       "\n"
      ],
      "text/plain": [
       "[1] 1821  863  261"
      ]
     },
     "metadata": {},
     "output_type": "display_data"
    }
   ],
   "source": [
    "nsalud30<-3\n",
    "muestrasalud30<- sample(1:nrow(edad[edad$facultad=='SALUD',]),size=nsalud30,replace=FALSE)\n",
    "muestrasalud30"
   ]
  },
  {
   "cell_type": "markdown",
   "metadata": {
    "slideshow": {
     "slide_type": "slide"
    }
   },
   "source": [
    "Construyamos un vector que nos permita seleccionar la muestra:"
   ]
  },
  {
   "cell_type": "code",
   "execution_count": 32,
   "metadata": {
    "slideshow": {
     "slide_type": "subslide"
    }
   },
   "outputs": [],
   "source": [
    "mestrato30<-c(muestrahumanas30,muestracedeuis30,muestraciencias30,muestramecanicas30,muestraquimicas30,muestraipred30,muestrasalud30)"
   ]
  },
  {
   "cell_type": "markdown",
   "metadata": {
    "slideshow": {
     "slide_type": "slide"
    }
   },
   "source": [
    "Y unas gráficas que nos permitan comparar:"
   ]
  },
  {
   "cell_type": "code",
   "execution_count": 33,
   "metadata": {
    "scrolled": true,
    "slideshow": {
     "slide_type": "subslide"
    }
   },
   "outputs": [
    {
     "data": {
      "image/png": "[encoded data removed]",
      "text/plain": [
       "Plot with title \"ME (30)\""
      ]
     },
     "metadata": {},
     "output_type": "display_data"
    }
   ],
   "source": [
    "par(mfrow=c(3,3))\n",
    "with(edad, plot(facultad,edad, main = 'Población', ylim=c(0,85)))\n",
    "with(edad[muestra1,], plot(facultad,edad, main = 'MAS (30)', ylim=c(0,85)))\n",
    "with(edad[mestrato30,], plot(facultad,edad, main = 'ME (30)', ylim=c(0,85)))\n",
    "\n",
    "with(edad, plot(edad, pch = 20, main = 'Población'))\n",
    "with(edad[muestra1,], plot(edad, pch = 20, main = 'MAS (30)', ylim=c(0,85)))\n",
    "with(edad[mestrato30,], plot(edad, pch = 20, main = 'ME (30)', ylim=c(0,85)))\n",
    "\n",
    "with(edad, hist(edad, nclass = 50, main = 'Población'))\n",
    "with(edad[muestra1,], hist(edad, nclass = 50, main = 'MAS (30)'))\n",
    "with(edad[mestrato30,], hist(edad, nclass = 50, main = 'ME (30)'))\n",
    "\n",
    "par(mfrow=c(1,1))"
   ]
  },
  {
   "cell_type": "markdown",
   "metadata": {
    "slideshow": {
     "slide_type": "subslide"
    }
   },
   "source": [
    "* ¿Qué diferencias observamos?\n",
    "* ¿A qué se deberán estas diferencias?\n",
    "* ¿Cambiará en algo si ampliamos la muestra?"
   ]
  },
  {
   "cell_type": "markdown",
   "metadata": {
    "slideshow": {
     "slide_type": "slide"
    }
   },
   "source": [
    "## Muestreo Sistemático\n",
    "\n",
    "El muestro sistemático consiste en tomar alestoriamente un cierto númoer $i$ de las primeras $k$ unidades que designara en una lista o población de $N$ elementos al primero que va a formar parte de la muestra.\n",
    "\n",
    "Luego, de manera casi rígida o sistemática, se va tomando el elemento $i+k$ que está $k$ lugares del i-ésimo en la lista; el $i+2k$ que está a $2k$ lugares y así sucesivamente hasta que se agoten los elementos disponibles en la lista"
   ]
  },
  {
   "cell_type": "code",
   "execution_count": 34,
   "metadata": {
    "slideshow": {
     "slide_type": "slide"
    }
   },
   "outputs": [],
   "source": [
    "library(SamplingUtil) # librería empleada para muestreo sistemático:"
   ]
  },
  {
   "cell_type": "code",
   "execution_count": 35,
   "metadata": {
    "slideshow": {
     "slide_type": "subslide"
    }
   },
   "outputs": [
    {
     "data": {
      "text/html": [
       "<ol class=list-inline>\n",
       "\t<li>296</li>\n",
       "\t<li>1097</li>\n",
       "\t<li>1898</li>\n",
       "\t<li>2699</li>\n",
       "\t<li>3500</li>\n",
       "\t<li>4301</li>\n",
       "\t<li>5102</li>\n",
       "\t<li>5903</li>\n",
       "\t<li>6704</li>\n",
       "\t<li>7505</li>\n",
       "\t<li>8306</li>\n",
       "\t<li>9107</li>\n",
       "\t<li>9908</li>\n",
       "\t<li>10709</li>\n",
       "\t<li>11510</li>\n",
       "\t<li>12311</li>\n",
       "\t<li>13112</li>\n",
       "\t<li>13913</li>\n",
       "\t<li>14714</li>\n",
       "\t<li>15515</li>\n",
       "\t<li>16316</li>\n",
       "\t<li>17117</li>\n",
       "\t<li>17918</li>\n",
       "\t<li>18719</li>\n",
       "\t<li>19520</li>\n",
       "\t<li>20321</li>\n",
       "\t<li>21122</li>\n",
       "\t<li>21923</li>\n",
       "\t<li>22724</li>\n",
       "\t<li>23525</li>\n",
       "</ol>\n"
      ],
      "text/latex": [
       "\\begin{enumerate*}\n",
       "\\item 296\n",
       "\\item 1097\n",
       "\\item 1898\n",
       "\\item 2699\n",
       "\\item 3500\n",
       "\\item 4301\n",
       "\\item 5102\n",
       "\\item 5903\n",
       "\\item 6704\n",
       "\\item 7505\n",
       "\\item 8306\n",
       "\\item 9107\n",
       "\\item 9908\n",
       "\\item 10709\n",
       "\\item 11510\n",
       "\\item 12311\n",
       "\\item 13112\n",
       "\\item 13913\n",
       "\\item 14714\n",
       "\\item 15515\n",
       "\\item 16316\n",
       "\\item 17117\n",
       "\\item 17918\n",
       "\\item 18719\n",
       "\\item 19520\n",
       "\\item 20321\n",
       "\\item 21122\n",
       "\\item 21923\n",
       "\\item 22724\n",
       "\\item 23525\n",
       "\\end{enumerate*}\n"
      ],
      "text/markdown": [
       "1. 296\n",
       "2. 1097\n",
       "3. 1898\n",
       "4. 2699\n",
       "5. 3500\n",
       "6. 4301\n",
       "7. 5102\n",
       "8. 5903\n",
       "9. 6704\n",
       "10. 7505\n",
       "11. 8306\n",
       "12. 9107\n",
       "13. 9908\n",
       "14. 10709\n",
       "15. 11510\n",
       "16. 12311\n",
       "17. 13112\n",
       "18. 13913\n",
       "19. 14714\n",
       "20. 15515\n",
       "21. 16316\n",
       "22. 17117\n",
       "23. 17918\n",
       "24. 18719\n",
       "25. 19520\n",
       "26. 20321\n",
       "27. 21122\n",
       "28. 21923\n",
       "29. 22724\n",
       "30. 23525\n",
       "\n",
       "\n"
      ],
      "text/plain": [
       " [1]   296  1097  1898  2699  3500  4301  5102  5903  6704  7505  8306  9107\n",
       "[13]  9908 10709 11510 12311 13112 13913 14714 15515 16316 17117 17918 18719\n",
       "[25] 19520 20321 21122 21923 22724 23525"
      ]
     },
     "metadata": {},
     "output_type": "display_data"
    }
   ],
   "source": [
    "# construyamos una muestra sistemática de tamaño 30:\n",
    "msis30<- sys.sample(N=nrow(edad),n=30)\n",
    "msis30"
   ]
  },
  {
   "cell_type": "code",
   "execution_count": 40,
   "metadata": {
    "slideshow": {
     "slide_type": "subslide"
    }
   },
   "outputs": [
    {
     "data": {
      "text/html": [
       "<ol class=list-inline>\n",
       "\t<li>58</li>\n",
       "\t<li>178</li>\n",
       "\t<li>298</li>\n",
       "\t<li>418</li>\n",
       "\t<li>538</li>\n",
       "\t<li>658</li>\n",
       "\t<li>778</li>\n",
       "\t<li>898</li>\n",
       "\t<li>1018</li>\n",
       "\t<li>1138</li>\n",
       "</ol>\n"
      ],
      "text/latex": [
       "\\begin{enumerate*}\n",
       "\\item 58\n",
       "\\item 178\n",
       "\\item 298\n",
       "\\item 418\n",
       "\\item 538\n",
       "\\item 658\n",
       "\\item 778\n",
       "\\item 898\n",
       "\\item 1018\n",
       "\\item 1138\n",
       "\\end{enumerate*}\n"
      ],
      "text/markdown": [
       "1. 58\n",
       "2. 178\n",
       "3. 298\n",
       "4. 418\n",
       "5. 538\n",
       "6. 658\n",
       "7. 778\n",
       "8. 898\n",
       "9. 1018\n",
       "10. 1138\n",
       "\n",
       "\n"
      ],
      "text/plain": [
       " [1]   58  178  298  418  538  658  778  898 1018 1138"
      ]
     },
     "metadata": {},
     "output_type": "display_data"
    },
    {
     "data": {
      "text/html": [
       "<ol class=list-inline>\n",
       "\t<li>22858</li>\n",
       "\t<li>22978</li>\n",
       "\t<li>23098</li>\n",
       "\t<li>23218</li>\n",
       "\t<li>23338</li>\n",
       "\t<li>23458</li>\n",
       "\t<li>23578</li>\n",
       "\t<li>23698</li>\n",
       "\t<li>23818</li>\n",
       "\t<li>23938</li>\n",
       "</ol>\n"
      ],
      "text/latex": [
       "\\begin{enumerate*}\n",
       "\\item 22858\n",
       "\\item 22978\n",
       "\\item 23098\n",
       "\\item 23218\n",
       "\\item 23338\n",
       "\\item 23458\n",
       "\\item 23578\n",
       "\\item 23698\n",
       "\\item 23818\n",
       "\\item 23938\n",
       "\\end{enumerate*}\n"
      ],
      "text/markdown": [
       "1. 22858\n",
       "2. 22978\n",
       "3. 23098\n",
       "4. 23218\n",
       "5. 23338\n",
       "6. 23458\n",
       "7. 23578\n",
       "8. 23698\n",
       "9. 23818\n",
       "10. 23938\n",
       "\n",
       "\n"
      ],
      "text/plain": [
       " [1] 22858 22978 23098 23218 23338 23458 23578 23698 23818 23938"
      ]
     },
     "metadata": {},
     "output_type": "display_data"
    }
   ],
   "source": [
    "# construyamos una muestra sistemática de tamaño 200:\n",
    "msis200<- sys.sample(N=nrow(edad),n=200)\n",
    "head(msis200,10);tail(msis200,10)"
   ]
  },
  {
   "cell_type": "code",
   "execution_count": 41,
   "metadata": {
    "slideshow": {
     "slide_type": "subslide"
    }
   },
   "outputs": [
    {
     "data": {
      "text/html": [
       "<ol class=list-inline>\n",
       "\t<li>23</li>\n",
       "\t<li>71</li>\n",
       "\t<li>119</li>\n",
       "\t<li>167</li>\n",
       "\t<li>215</li>\n",
       "\t<li>263</li>\n",
       "\t<li>311</li>\n",
       "\t<li>359</li>\n",
       "\t<li>407</li>\n",
       "\t<li>455</li>\n",
       "</ol>\n"
      ],
      "text/latex": [
       "\\begin{enumerate*}\n",
       "\\item 23\n",
       "\\item 71\n",
       "\\item 119\n",
       "\\item 167\n",
       "\\item 215\n",
       "\\item 263\n",
       "\\item 311\n",
       "\\item 359\n",
       "\\item 407\n",
       "\\item 455\n",
       "\\end{enumerate*}\n"
      ],
      "text/markdown": [
       "1. 23\n",
       "2. 71\n",
       "3. 119\n",
       "4. 167\n",
       "5. 215\n",
       "6. 263\n",
       "7. 311\n",
       "8. 359\n",
       "9. 407\n",
       "10. 455\n",
       "\n",
       "\n"
      ],
      "text/plain": [
       " [1]  23  71 119 167 215 263 311 359 407 455"
      ]
     },
     "metadata": {},
     "output_type": "display_data"
    },
    {
     "data": {
      "text/html": [
       "<ol class=list-inline>\n",
       "\t<li>23543</li>\n",
       "\t<li>23591</li>\n",
       "\t<li>23639</li>\n",
       "\t<li>23687</li>\n",
       "\t<li>23735</li>\n",
       "\t<li>23783</li>\n",
       "\t<li>23831</li>\n",
       "\t<li>23879</li>\n",
       "\t<li>23927</li>\n",
       "\t<li>23975</li>\n",
       "</ol>\n"
      ],
      "text/latex": [
       "\\begin{enumerate*}\n",
       "\\item 23543\n",
       "\\item 23591\n",
       "\\item 23639\n",
       "\\item 23687\n",
       "\\item 23735\n",
       "\\item 23783\n",
       "\\item 23831\n",
       "\\item 23879\n",
       "\\item 23927\n",
       "\\item 23975\n",
       "\\end{enumerate*}\n"
      ],
      "text/markdown": [
       "1. 23543\n",
       "2. 23591\n",
       "3. 23639\n",
       "4. 23687\n",
       "5. 23735\n",
       "6. 23783\n",
       "7. 23831\n",
       "8. 23879\n",
       "9. 23927\n",
       "10. 23975\n",
       "\n",
       "\n"
      ],
      "text/plain": [
       " [1] 23543 23591 23639 23687 23735 23783 23831 23879 23927 23975"
      ]
     },
     "metadata": {},
     "output_type": "display_data"
    }
   ],
   "source": [
    "# construyamos una muestra sistemática de tamaño 500:\n",
    "msis500<- sys.sample(N=nrow(edad),n=500)\n",
    "head(msis500,10);tail(msis500,10)"
   ]
  },
  {
   "cell_type": "code",
   "execution_count": 42,
   "metadata": {
    "scrolled": true,
    "slideshow": {
     "slide_type": "slide"
    }
   },
   "outputs": [
    {
     "data": {
      "text/html": [
       "<table>\n",
       "<thead><tr><th></th><th scope=col>codigo</th><th scope=col>edad</th><th scope=col>facultad</th></tr></thead>\n",
       "<tbody>\n",
       "\t<tr><th scope=row>296</th><td>2178774    </td><td>31         </td><td>F.QUÍMICAS </td></tr>\n",
       "\t<tr><th scope=row>1097</th><td>2188584    </td><td>35         </td><td>F.QUÍMICAS </td></tr>\n",
       "\t<tr><th scope=row>1898</th><td>2188465    </td><td>37         </td><td>F.MECÁNICAS</td></tr>\n",
       "\t<tr><th scope=row>2699</th><td>2187583    </td><td>21         </td><td>IPRED      </td></tr>\n",
       "\t<tr><th scope=row>3500</th><td>2187523    </td><td>23         </td><td>IPRED      </td></tr>\n",
       "\t<tr><th scope=row>4301</th><td>2186291    </td><td>44         </td><td>IPRED      </td></tr>\n",
       "</tbody>\n",
       "</table>\n"
      ],
      "text/latex": [
       "\\begin{tabular}{r|lll}\n",
       "  & codigo & edad & facultad\\\\\n",
       "\\hline\n",
       "\t296 & 2178774     & 31          & F.QUÍMICAS \\\\\n",
       "\t1097 & 2188584     & 35          & F.QUÍMICAS \\\\\n",
       "\t1898 & 2188465     & 37          & F.MECÁNICAS\\\\\n",
       "\t2699 & 2187583     & 21          & IPRED      \\\\\n",
       "\t3500 & 2187523     & 23          & IPRED      \\\\\n",
       "\t4301 & 2186291     & 44          & IPRED      \\\\\n",
       "\\end{tabular}\n"
      ],
      "text/markdown": [
       "\n",
       "| <!--/--> | codigo | edad | facultad |\n",
       "|---|---|---|---|\n",
       "| 296 | 2178774     | 31          | F.QUÍMICAS  |\n",
       "| 1097 | 2188584     | 35          | F.QUÍMICAS  |\n",
       "| 1898 | 2188465     | 37          | F.MECÁNICAS |\n",
       "| 2699 | 2187583     | 21          | IPRED       |\n",
       "| 3500 | 2187523     | 23          | IPRED       |\n",
       "| 4301 | 2186291     | 44          | IPRED       |\n",
       "\n"
      ],
      "text/plain": [
       "     codigo  edad facultad   \n",
       "296  2178774 31   F.QUÍMICAS \n",
       "1097 2188584 35   F.QUÍMICAS \n",
       "1898 2188465 37   F.MECÁNICAS\n",
       "2699 2187583 21   IPRED      \n",
       "3500 2187523 23   IPRED      \n",
       "4301 2186291 44   IPRED      "
      ]
     },
     "metadata": {},
     "output_type": "display_data"
    }
   ],
   "source": [
    "# Ahora extraemos la muestra:\n",
    "m30sis<- edad[msis30, ]\n",
    "head(m30sis)"
   ]
  },
  {
   "cell_type": "code",
   "execution_count": 43,
   "metadata": {
    "slideshow": {
     "slide_type": "subslide"
    }
   },
   "outputs": [
    {
     "data": {
      "text/html": [
       "<table>\n",
       "<thead><tr><th></th><th scope=col>codigo</th><th scope=col>edad</th><th scope=col>facultad</th></tr></thead>\n",
       "<tbody>\n",
       "\t<tr><th scope=row>58</th><td>2169097    </td><td>26         </td><td>F.MECÁNICAS</td></tr>\n",
       "\t<tr><th scope=row>178</th><td>2188805    </td><td>25         </td><td>F.MECÁNICAS</td></tr>\n",
       "\t<tr><th scope=row>298</th><td>2178119    </td><td>32         </td><td>CIENCIAS   </td></tr>\n",
       "\t<tr><th scope=row>418</th><td>2188812    </td><td>45         </td><td>F.MECÁNICAS</td></tr>\n",
       "\t<tr><th scope=row>538</th><td>2188058    </td><td>32         </td><td>F.MECÁNICAS</td></tr>\n",
       "\t<tr><th scope=row>658</th><td>2087747    </td><td>33         </td><td>F.MECÁNICAS</td></tr>\n",
       "</tbody>\n",
       "</table>\n"
      ],
      "text/latex": [
       "\\begin{tabular}{r|lll}\n",
       "  & codigo & edad & facultad\\\\\n",
       "\\hline\n",
       "\t58 & 2169097     & 26          & F.MECÁNICAS\\\\\n",
       "\t178 & 2188805     & 25          & F.MECÁNICAS\\\\\n",
       "\t298 & 2178119     & 32          & CIENCIAS   \\\\\n",
       "\t418 & 2188812     & 45          & F.MECÁNICAS\\\\\n",
       "\t538 & 2188058     & 32          & F.MECÁNICAS\\\\\n",
       "\t658 & 2087747     & 33          & F.MECÁNICAS\\\\\n",
       "\\end{tabular}\n"
      ],
      "text/markdown": [
       "\n",
       "| <!--/--> | codigo | edad | facultad |\n",
       "|---|---|---|---|\n",
       "| 58 | 2169097     | 26          | F.MECÁNICAS |\n",
       "| 178 | 2188805     | 25          | F.MECÁNICAS |\n",
       "| 298 | 2178119     | 32          | CIENCIAS    |\n",
       "| 418 | 2188812     | 45          | F.MECÁNICAS |\n",
       "| 538 | 2188058     | 32          | F.MECÁNICAS |\n",
       "| 658 | 2087747     | 33          | F.MECÁNICAS |\n",
       "\n"
      ],
      "text/plain": [
       "    codigo  edad facultad   \n",
       "58  2169097 26   F.MECÁNICAS\n",
       "178 2188805 25   F.MECÁNICAS\n",
       "298 2178119 32   CIENCIAS   \n",
       "418 2188812 45   F.MECÁNICAS\n",
       "538 2188058 32   F.MECÁNICAS\n",
       "658 2087747 33   F.MECÁNICAS"
      ]
     },
     "metadata": {},
     "output_type": "display_data"
    }
   ],
   "source": [
    "m200sis<- edad[msis200, ]\n",
    "head(m200sis)"
   ]
  },
  {
   "cell_type": "code",
   "execution_count": 44,
   "metadata": {
    "slideshow": {
     "slide_type": "subslide"
    }
   },
   "outputs": [
    {
     "data": {
      "text/html": [
       "<table>\n",
       "<thead><tr><th></th><th scope=col>codigo</th><th scope=col>edad</th><th scope=col>facultad</th></tr></thead>\n",
       "<tbody>\n",
       "\t<tr><th scope=row>23</th><td>2158775    </td><td>29         </td><td>CIENCIAS   </td></tr>\n",
       "\t<tr><th scope=row>71</th><td>2168300    </td><td>27         </td><td>F.MECÁNICAS</td></tr>\n",
       "\t<tr><th scope=row>119</th><td>2148687    </td><td>30         </td><td>F.MECÁNICAS</td></tr>\n",
       "\t<tr><th scope=row>167</th><td>2188192    </td><td>25         </td><td>CIENCIAS   </td></tr>\n",
       "\t<tr><th scope=row>215</th><td>2188274    </td><td>24         </td><td>F.MECÁNICAS</td></tr>\n",
       "\t<tr><th scope=row>263</th><td>2169111    </td><td>41         </td><td>CIENCIAS   </td></tr>\n",
       "</tbody>\n",
       "</table>\n"
      ],
      "text/latex": [
       "\\begin{tabular}{r|lll}\n",
       "  & codigo & edad & facultad\\\\\n",
       "\\hline\n",
       "\t23 & 2158775     & 29          & CIENCIAS   \\\\\n",
       "\t71 & 2168300     & 27          & F.MECÁNICAS\\\\\n",
       "\t119 & 2148687     & 30          & F.MECÁNICAS\\\\\n",
       "\t167 & 2188192     & 25          & CIENCIAS   \\\\\n",
       "\t215 & 2188274     & 24          & F.MECÁNICAS\\\\\n",
       "\t263 & 2169111     & 41          & CIENCIAS   \\\\\n",
       "\\end{tabular}\n"
      ],
      "text/markdown": [
       "\n",
       "| <!--/--> | codigo | edad | facultad |\n",
       "|---|---|---|---|\n",
       "| 23 | 2158775     | 29          | CIENCIAS    |\n",
       "| 71 | 2168300     | 27          | F.MECÁNICAS |\n",
       "| 119 | 2148687     | 30          | F.MECÁNICAS |\n",
       "| 167 | 2188192     | 25          | CIENCIAS    |\n",
       "| 215 | 2188274     | 24          | F.MECÁNICAS |\n",
       "| 263 | 2169111     | 41          | CIENCIAS    |\n",
       "\n"
      ],
      "text/plain": [
       "    codigo  edad facultad   \n",
       "23  2158775 29   CIENCIAS   \n",
       "71  2168300 27   F.MECÁNICAS\n",
       "119 2148687 30   F.MECÁNICAS\n",
       "167 2188192 25   CIENCIAS   \n",
       "215 2188274 24   F.MECÁNICAS\n",
       "263 2169111 41   CIENCIAS   "
      ]
     },
     "metadata": {},
     "output_type": "display_data"
    }
   ],
   "source": [
    "m500sis<- edad[msis500, ]\n",
    "head(m500sis)"
   ]
  },
  {
   "cell_type": "code",
   "execution_count": 46,
   "metadata": {
    "scrolled": true,
    "slideshow": {
     "slide_type": "subslide"
    }
   },
   "outputs": [
    {
     "data": {
      "image/png": "[encoded data removed]",
      "text/plain": [
       "Plot with title \"MS (30)\""
      ]
     },
     "metadata": {},
     "output_type": "display_data"
    }
   ],
   "source": [
    "# Y las gráficas\n",
    "par(mfrow=c(3,4))\n",
    "with(edad, plot(facultad,edad, main = 'Población', ylim=c(0,85)))\n",
    "with(edad[muestra1,], plot(facultad,edad, main = 'MAS (30)', ylim=c(0,85)))\n",
    "with(edad[mestrato30,], plot(facultad,edad, main = 'ME (30)', ylim=c(0,85)))\n",
    "with(edad[msis30,], plot(facultad,edad, main = 'MS (30)', ylim=c(0,85)))\n",
    "\n",
    "with(edad, plot(edad, pch = 20, main = 'Población'))\n",
    "with(edad[muestra1,], plot(edad, pch = 20, main = 'MAS (30)', ylim=c(0,85)))\n",
    "with(edad[mestrato30,], plot(edad, pch = 20, main = 'ME (30)', ylim=c(0,85)))\n",
    "with(edad[msis30,], plot(edad, pch = 20, main = 'MS (30)', ylim=c(0,85)))\n",
    "\n",
    "with(edad, hist(edad, nclass = 50, main = 'Población'))\n",
    "with(edad[muestra1,], hist(edad, nclass = 50, main = 'MAS (30)'))\n",
    "with(edad[mestrato30,], hist(edad, nclass = 50, main = 'ME (30)'))\n",
    "with(edad[msis30,], hist(edad, nclass = 50, main = 'MS (30)'))\n",
    "\n",
    "par(mfrow=c(1,1))"
   ]
  },
  {
   "cell_type": "code",
   "execution_count": 49,
   "metadata": {
    "scrolled": true,
    "slideshow": {
     "slide_type": "subslide"
    }
   },
   "outputs": [
    {
     "data": {
      "image/png": "[encoded data removed]",
      "text/plain": [
       "Plot with title \"MS (200)\""
      ]
     },
     "metadata": {},
     "output_type": "display_data"
    }
   ],
   "source": [
    "# Con la muestra 200\n",
    "par(mfrow=c(3,3))\n",
    "with(edad, plot(facultad,edad, main = 'Población', ylim=c(0,85)))\n",
    "with(edad[muestra2,], plot(facultad,edad, main = 'MAS (200)', ylim=c(0,85)))\n",
    "with(edad[msis200,], plot(facultad,edad, main = 'MS (200)', ylim=c(0,85)))\n",
    "\n",
    "with(edad, plot(edad, pch = 20, main = 'Población'))\n",
    "with(edad[muestra2,], plot(edad, pch = 20, main = 'MAS (200)', ylim=c(0,85)))\n",
    "with(edad[msis200,], plot(edad, pch = 20, main = 'MS (200)', ylim=c(0,85)))\n",
    "\n",
    "with(edad, hist(edad, nclass = 50, main = 'Población'))\n",
    "with(edad[muestra2,], hist(edad, nclass = 50, main = 'MAS (200)'))\n",
    "with(edad[msis200,], hist(edad, nclass = 50, main = 'MS (200)'))\n",
    "\n",
    "par(mfrow=c(1,1))"
   ]
  },
  {
   "cell_type": "markdown",
   "metadata": {},
   "source": [
    "## Ejercicio\n",
    "\n",
    "En el siguiente enlace encontrará el script correspondiente al ejercicio propuesto en clase:\n",
    "https://github.com/karlosmantilla/Muestreo/blob/master/Datos/Muestreo3.R"
   ]
  }
 ],
 "metadata": {
  "kernelspec": {
   "display_name": "R",
   "language": "R",
   "name": "ir"
  },
  "language_info": {
   "codemirror_mode": "r",
   "file_extension": ".r",
   "mimetype": "text/x-r-source",
   "name": "R",
   "pygments_lexer": "r",
   "version": "3.6.0"
  }
 },
 "nbformat": 4,
 "nbformat_minor": 2
}
